{
  "nbformat": 4,
  "nbformat_minor": 0,
  "metadata": {
    "colab": {
      "name": "project2 .ipynb",
      "provenance": [],
      "collapsed_sections": [
        "yEUYf90m3fZp",
        "J2jZyegb1Lrj",
        "KA8D_JIU5DaL",
        "VxZBORKe8TGg",
        "RNGNTJi4_uoB",
        "0dW1ombECFGt",
        "mBejy7UplRdS",
        "955b0cQ2xhF-",
        "ZyWXeJlq5ujt",
        "LRGJhXmM3J_q"
      ]
    },
    "kernelspec": {
      "name": "python3",
      "display_name": "Python 3"
    },
    "language_info": {
      "name": "python"
    }
  },
  "cells": [
    {
      "cell_type": "code",
      "execution_count": 49,
      "metadata": {
        "id": "RLxGgSiC6oK6"
      },
      "outputs": [],
      "source": [
        "import pandas as pd\n",
        "import numpy as np\n",
        "import matplotlib.pyplot as plt\n",
        "import seaborn as sns"
      ]
    },
    {
      "cell_type": "code",
      "source": [
        "from google.colab import files\n",
        "uploaded = files.upload()"
      ],
      "metadata": {
        "colab": {
          "resources": {
            "http://localhost:8080/nbextensions/google.colab/files.js": {
              "data": "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",
              "ok": true,
              "headers": [
                [
                  "content-type",
                  "application/javascript"
                ]
              ],
              "status": 200,
              "status_text": ""
            }
          },
          "base_uri": "https://localhost:8080/",
          "height": 73
        },
        "id": "0NJ2ZmWL6voV",
        "outputId": "b6c235bb-be5f-4500-eefd-2b3a1d1abe9b"
      },
      "execution_count": 50,
      "outputs": [
        {
          "output_type": "display_data",
          "data": {
            "text/plain": [
              "<IPython.core.display.HTML object>"
            ],
            "text/html": [
              "\n",
              "     <input type=\"file\" id=\"files-e7588650-9686-4f2b-87ca-e64df0020055\" name=\"files[]\" multiple disabled\n",
              "        style=\"border:none\" />\n",
              "     <output id=\"result-e7588650-9686-4f2b-87ca-e64df0020055\">\n",
              "      Upload widget is only available when the cell has been executed in the\n",
              "      current browser session. Please rerun this cell to enable.\n",
              "      </output>\n",
              "      <script src=\"/nbextensions/google.colab/files.js\"></script> "
            ]
          },
          "metadata": {}
        },
        {
          "output_type": "stream",
          "name": "stdout",
          "text": [
            "Saving netflixoriginals.csv to netflixoriginals (1).csv\n"
          ]
        }
      ]
    },
    {
      "cell_type": "markdown",
      "source": [
        "---\n",
        "**Projenin bazı kısımlarında verinin ham hali tekrardan lazım olduğu için iki kez çıktı aldık.**\n",
        "\n",
        "---"
      ],
      "metadata": {
        "id": "BaBF74fDcP-N"
      }
    },
    {
      "cell_type": "code",
      "source": [
        "data = pd.read_csv(\"netflixoriginals.csv\",encoding='ISO-8859-1' )\n",
        "data2 = data.copy()\n",
        "print(data.head(10))"
      ],
      "metadata": {
        "colab": {
          "base_uri": "https://localhost:8080/"
        },
        "id": "NDjN-WIG7Pkh",
        "outputId": "3297aac7-a2b4-4339-ab76-bc00aa6052c1"
      },
      "execution_count": 51,
      "outputs": [
        {
          "output_type": "stream",
          "name": "stdout",
          "text": [
            "                             Title                    Genre  \\\n",
            "0                  Enter the Anime              Documentary   \n",
            "1                      Dark Forces                 Thriller   \n",
            "2                          The App    Science fiction/Drama   \n",
            "3                   The Open House          Horror thriller   \n",
            "4                      Kaali Khuhi                  Mystery   \n",
            "5                            Drive                   Action   \n",
            "6                Leyla Everlasting                   Comedy   \n",
            "7  The Last Days of American Crime      Heist film/Thriller   \n",
            "8                          Paradox  Musical/Western/Fantasy   \n",
            "9               Sardar Ka Grandson                   Comedy   \n",
            "\n",
            "            Premiere  Runtime  IMDB Score          Language  \n",
            "0     August 5, 2019       58         2.5  English/Japanese  \n",
            "1    August 21, 2020       81         2.6           Spanish  \n",
            "2  December 26, 2019       79         2.6           Italian  \n",
            "3   January 19, 2018       94         3.2           English  \n",
            "4   October 30, 2020       90         3.4             Hindi  \n",
            "5   November 1, 2019      147         3.5             Hindi  \n",
            "6   December 4, 2020      112         3.7           Turkish  \n",
            "7       June 5, 2020      149         3.7           English  \n",
            "8     March 23, 2018       73         3.9           English  \n",
            "9       May 18, 2021      139         4.1             Hindi  \n"
          ]
        }
      ]
    },
    {
      "cell_type": "code",
      "source": [
        "data.shape"
      ],
      "metadata": {
        "colab": {
          "base_uri": "https://localhost:8080/"
        },
        "id": "F1yQbI80mvoG",
        "outputId": "5199d381-8249-4816-bc35-653144f846d9"
      },
      "execution_count": 52,
      "outputs": [
        {
          "output_type": "execute_result",
          "data": {
            "text/plain": [
              "(584, 6)"
            ]
          },
          "metadata": {},
          "execution_count": 52
        }
      ]
    },
    {
      "cell_type": "code",
      "source": [
        "data.isnull().sum()"
      ],
      "metadata": {
        "colab": {
          "base_uri": "https://localhost:8080/"
        },
        "id": "x1324jqn1th7",
        "outputId": "be8b168b-c588-4d8a-f7ca-7bc0bd900220"
      },
      "execution_count": 53,
      "outputs": [
        {
          "output_type": "execute_result",
          "data": {
            "text/plain": [
              "Title         0\n",
              "Genre         0\n",
              "Premiere      0\n",
              "Runtime       0\n",
              "IMDB Score    0\n",
              "Language      0\n",
              "dtype: int64"
            ]
          },
          "metadata": {},
          "execution_count": 53
        }
      ]
    },
    {
      "cell_type": "markdown",
      "source": [
        "Datasetimizde null değer bulunmamaktadır."
      ],
      "metadata": {
        "id": "Sclq7Tea2GzS"
      }
    },
    {
      "cell_type": "code",
      "source": [
        "data.duplicated().sum()"
      ],
      "metadata": {
        "colab": {
          "base_uri": "https://localhost:8080/"
        },
        "id": "ssvrBl3719xR",
        "outputId": "205e5c32-85c5-4825-ee0c-0709842378f5"
      },
      "execution_count": 54,
      "outputs": [
        {
          "output_type": "execute_result",
          "data": {
            "text/plain": [
              "0"
            ]
          },
          "metadata": {},
          "execution_count": 54
        }
      ]
    },
    {
      "cell_type": "markdown",
      "source": [
        "Datasetimizde duplicated değer bulunmamaktadır.\n",
        "\n",
        "\n"
      ],
      "metadata": {
        "id": "UCV9vJ8r2LdH"
      }
    },
    {
      "cell_type": "markdown",
      "source": [
        "**1. Veri setine göre uzun soluklu filmler hangi dilde oluşturulmuştur? Görselleştirme yapınız.**\n",
        "---\n",
        "---"
      ],
      "metadata": {
        "id": "jt0Jeg0LwK8_"
      }
    },
    {
      "cell_type": "markdown",
      "source": [
        "Filmin uzun soluklu olması için süresinin 60 dakikadan uzun olması gerekiyor bu nedenle 60 dakikadan uzun olan filmleri inceleyeceğiz.\n",
        "\n",
        "---"
      ],
      "metadata": {
        "id": "zr3FDReF4hN9"
      }
    },
    {
      "cell_type": "code",
      "source": [
        "data_rt = data[\"Runtime\"]\n",
        "\n",
        "rt_list = []\n",
        "for i in range(0,len(data)):\n",
        "  if data_rt[i] >= 60 :\n",
        "    rt_list.append(i)\n",
        "\n",
        "rt_lang = data.loc[rt_list].reset_index()\n",
        "rt_lang.head()"
      ],
      "metadata": {
        "colab": {
          "base_uri": "https://localhost:8080/",
          "height": 206
        },
        "id": "HgbnuxNzwQrF",
        "outputId": "f800a4a1-6eae-4767-eb37-6425cc9ee881"
      },
      "execution_count": 55,
      "outputs": [
        {
          "output_type": "execute_result",
          "data": {
            "text/plain": [
              "   index           Title                  Genre           Premiere  Runtime  \\\n",
              "0      1     Dark Forces               Thriller    August 21, 2020       81   \n",
              "1      2         The App  Science fiction/Drama  December 26, 2019       79   \n",
              "2      3  The Open House        Horror thriller   January 19, 2018       94   \n",
              "3      4     Kaali Khuhi                Mystery   October 30, 2020       90   \n",
              "4      5           Drive                 Action   November 1, 2019      147   \n",
              "\n",
              "   IMDB Score Language  \n",
              "0         2.6  Spanish  \n",
              "1         2.6  Italian  \n",
              "2         3.2  English  \n",
              "3         3.4    Hindi  \n",
              "4         3.5    Hindi  "
            ],
            "text/html": [
              "\n",
              "  <div id=\"df-1221e8d0-d50c-4f77-a6e8-04dc1b54a77e\">\n",
              "    <div class=\"colab-df-container\">\n",
              "      <div>\n",
              "<style scoped>\n",
              "    .dataframe tbody tr th:only-of-type {\n",
              "        vertical-align: middle;\n",
              "    }\n",
              "\n",
              "    .dataframe tbody tr th {\n",
              "        vertical-align: top;\n",
              "    }\n",
              "\n",
              "    .dataframe thead th {\n",
              "        text-align: right;\n",
              "    }\n",
              "</style>\n",
              "<table border=\"1\" class=\"dataframe\">\n",
              "  <thead>\n",
              "    <tr style=\"text-align: right;\">\n",
              "      <th></th>\n",
              "      <th>index</th>\n",
              "      <th>Title</th>\n",
              "      <th>Genre</th>\n",
              "      <th>Premiere</th>\n",
              "      <th>Runtime</th>\n",
              "      <th>IMDB Score</th>\n",
              "      <th>Language</th>\n",
              "    </tr>\n",
              "  </thead>\n",
              "  <tbody>\n",
              "    <tr>\n",
              "      <th>0</th>\n",
              "      <td>1</td>\n",
              "      <td>Dark Forces</td>\n",
              "      <td>Thriller</td>\n",
              "      <td>August 21, 2020</td>\n",
              "      <td>81</td>\n",
              "      <td>2.6</td>\n",
              "      <td>Spanish</td>\n",
              "    </tr>\n",
              "    <tr>\n",
              "      <th>1</th>\n",
              "      <td>2</td>\n",
              "      <td>The App</td>\n",
              "      <td>Science fiction/Drama</td>\n",
              "      <td>December 26, 2019</td>\n",
              "      <td>79</td>\n",
              "      <td>2.6</td>\n",
              "      <td>Italian</td>\n",
              "    </tr>\n",
              "    <tr>\n",
              "      <th>2</th>\n",
              "      <td>3</td>\n",
              "      <td>The Open House</td>\n",
              "      <td>Horror thriller</td>\n",
              "      <td>January 19, 2018</td>\n",
              "      <td>94</td>\n",
              "      <td>3.2</td>\n",
              "      <td>English</td>\n",
              "    </tr>\n",
              "    <tr>\n",
              "      <th>3</th>\n",
              "      <td>4</td>\n",
              "      <td>Kaali Khuhi</td>\n",
              "      <td>Mystery</td>\n",
              "      <td>October 30, 2020</td>\n",
              "      <td>90</td>\n",
              "      <td>3.4</td>\n",
              "      <td>Hindi</td>\n",
              "    </tr>\n",
              "    <tr>\n",
              "      <th>4</th>\n",
              "      <td>5</td>\n",
              "      <td>Drive</td>\n",
              "      <td>Action</td>\n",
              "      <td>November 1, 2019</td>\n",
              "      <td>147</td>\n",
              "      <td>3.5</td>\n",
              "      <td>Hindi</td>\n",
              "    </tr>\n",
              "  </tbody>\n",
              "</table>\n",
              "</div>\n",
              "      <button class=\"colab-df-convert\" onclick=\"convertToInteractive('df-1221e8d0-d50c-4f77-a6e8-04dc1b54a77e')\"\n",
              "              title=\"Convert this dataframe to an interactive table.\"\n",
              "              style=\"display:none;\">\n",
              "        \n",
              "  <svg xmlns=\"http://www.w3.org/2000/svg\" height=\"24px\"viewBox=\"0 0 24 24\"\n",
              "       width=\"24px\">\n",
              "    <path d=\"M0 0h24v24H0V0z\" fill=\"none\"/>\n",
              "    <path d=\"M18.56 5.44l.94 2.06.94-2.06 2.06-.94-2.06-.94-.94-2.06-.94 2.06-2.06.94zm-11 1L8.5 8.5l.94-2.06 2.06-.94-2.06-.94L8.5 2.5l-.94 2.06-2.06.94zm10 10l.94 2.06.94-2.06 2.06-.94-2.06-.94-.94-2.06-.94 2.06-2.06.94z\"/><path d=\"M17.41 7.96l-1.37-1.37c-.4-.4-.92-.59-1.43-.59-.52 0-1.04.2-1.43.59L10.3 9.45l-7.72 7.72c-.78.78-.78 2.05 0 2.83L4 21.41c.39.39.9.59 1.41.59.51 0 1.02-.2 1.41-.59l7.78-7.78 2.81-2.81c.8-.78.8-2.07 0-2.86zM5.41 20L4 18.59l7.72-7.72 1.47 1.35L5.41 20z\"/>\n",
              "  </svg>\n",
              "      </button>\n",
              "      \n",
              "  <style>\n",
              "    .colab-df-container {\n",
              "      display:flex;\n",
              "      flex-wrap:wrap;\n",
              "      gap: 12px;\n",
              "    }\n",
              "\n",
              "    .colab-df-convert {\n",
              "      background-color: #E8F0FE;\n",
              "      border: none;\n",
              "      border-radius: 50%;\n",
              "      cursor: pointer;\n",
              "      display: none;\n",
              "      fill: #1967D2;\n",
              "      height: 32px;\n",
              "      padding: 0 0 0 0;\n",
              "      width: 32px;\n",
              "    }\n",
              "\n",
              "    .colab-df-convert:hover {\n",
              "      background-color: #E2EBFA;\n",
              "      box-shadow: 0px 1px 2px rgba(60, 64, 67, 0.3), 0px 1px 3px 1px rgba(60, 64, 67, 0.15);\n",
              "      fill: #174EA6;\n",
              "    }\n",
              "\n",
              "    [theme=dark] .colab-df-convert {\n",
              "      background-color: #3B4455;\n",
              "      fill: #D2E3FC;\n",
              "    }\n",
              "\n",
              "    [theme=dark] .colab-df-convert:hover {\n",
              "      background-color: #434B5C;\n",
              "      box-shadow: 0px 1px 3px 1px rgba(0, 0, 0, 0.15);\n",
              "      filter: drop-shadow(0px 1px 2px rgba(0, 0, 0, 0.3));\n",
              "      fill: #FFFFFF;\n",
              "    }\n",
              "  </style>\n",
              "\n",
              "      <script>\n",
              "        const buttonEl =\n",
              "          document.querySelector('#df-1221e8d0-d50c-4f77-a6e8-04dc1b54a77e button.colab-df-convert');\n",
              "        buttonEl.style.display =\n",
              "          google.colab.kernel.accessAllowed ? 'block' : 'none';\n",
              "\n",
              "        async function convertToInteractive(key) {\n",
              "          const element = document.querySelector('#df-1221e8d0-d50c-4f77-a6e8-04dc1b54a77e');\n",
              "          const dataTable =\n",
              "            await google.colab.kernel.invokeFunction('convertToInteractive',\n",
              "                                                     [key], {});\n",
              "          if (!dataTable) return;\n",
              "\n",
              "          const docLinkHtml = 'Like what you see? Visit the ' +\n",
              "            '<a target=\"_blank\" href=https://colab.research.google.com/notebooks/data_table.ipynb>data table notebook</a>'\n",
              "            + ' to learn more about interactive tables.';\n",
              "          element.innerHTML = '';\n",
              "          dataTable['output_type'] = 'display_data';\n",
              "          await google.colab.output.renderOutput(dataTable, element);\n",
              "          const docLink = document.createElement('div');\n",
              "          docLink.innerHTML = docLinkHtml;\n",
              "          element.appendChild(docLink);\n",
              "        }\n",
              "      </script>\n",
              "    </div>\n",
              "  </div>\n",
              "  "
            ]
          },
          "metadata": {},
          "execution_count": 55
        }
      ]
    },
    {
      "cell_type": "code",
      "source": [
        "lang=rt_lang[\"Language\"].str.split('/', expand = True)\n",
        "print(lang)\n"
      ],
      "metadata": {
        "colab": {
          "base_uri": "https://localhost:8080/"
        },
        "id": "AcqcfzlT_KS6",
        "outputId": "d5d17f72-acd4-4831-8606-1a299f9533c5"
      },
      "execution_count": 56,
      "outputs": [
        {
          "output_type": "stream",
          "name": "stdout",
          "text": [
            "              0         1        2\n",
            "0       Spanish      None     None\n",
            "1       Italian      None     None\n",
            "2       English      None     None\n",
            "3         Hindi      None     None\n",
            "4         Hindi      None     None\n",
            "..          ...       ...      ...\n",
            "510     English      None     None\n",
            "511     English  Ukranian  Russian\n",
            "512     English      None     None\n",
            "513  Portuguese      None     None\n",
            "514     English      None     None\n",
            "\n",
            "[515 rows x 3 columns]\n"
          ]
        }
      ]
    },
    {
      "cell_type": "code",
      "source": [
        "lang_1=lang[0].groupby([lang[0].values]).size()\n",
        "lang_2=lang[1].groupby([lang[1].values]).size()\n",
        "lang_3=lang[2].groupby([lang[2].values]).size()\n",
        "\n",
        "langlists=pd.DataFrame(pd.concat([lang_1, lang_2,lang_3]))\n",
        "\n",
        "langlists = langlists.groupby([langlists.index.values]).sum()\n",
        "\n",
        "print(langlists)\n",
        "print(type(langlists))"
      ],
      "metadata": {
        "colab": {
          "base_uri": "https://localhost:8080/"
        },
        "id": "1RfKumK3BeJR",
        "outputId": "e7705915-f71f-4422-8f3a-9b3ef85ebc30"
      },
      "execution_count": 57,
      "outputs": [
        {
          "output_type": "stream",
          "name": "stdout",
          "text": [
            "              0\n",
            "Akan          1\n",
            "Arabic        1\n",
            "Basque        1\n",
            "Catalan       1\n",
            "Dutch         3\n",
            "English     360\n",
            "Filipino      2\n",
            "French       21\n",
            "German        5\n",
            "Hindi        33\n",
            "Indonesian    9\n",
            "Italian      14\n",
            "Japanese      6\n",
            "Khmer         1\n",
            "Korean        7\n",
            "Malay         1\n",
            "Mandarin      2\n",
            "Marathi       3\n",
            "Norwegian     1\n",
            "Polish        3\n",
            "Portuguese   10\n",
            "Russian       2\n",
            "Spanish      33\n",
            "Swedish       1\n",
            "Taiwanese     1\n",
            "Tamil         1\n",
            "Thai          2\n",
            "Thia          1\n",
            "Turkish       5\n",
            "Ukranian      1\n",
            "<class 'pandas.core.frame.DataFrame'>\n"
          ]
        }
      ]
    },
    {
      "cell_type": "code",
      "source": [
        "langlists.columns = [\"Langs\"]\n",
        "\n",
        "print(langlists.index.values)"
      ],
      "metadata": {
        "colab": {
          "base_uri": "https://localhost:8080/"
        },
        "id": "sMthgsJZEA__",
        "outputId": "95838982-37cf-40e7-c999-e5cc3a7fe1c5"
      },
      "execution_count": 58,
      "outputs": [
        {
          "output_type": "stream",
          "name": "stdout",
          "text": [
            "['Akan' 'Arabic' 'Basque' 'Catalan' 'Dutch' 'English' 'Filipino' 'French'\n",
            " 'German' 'Hindi' 'Indonesian' 'Italian' 'Japanese' 'Khmer' 'Korean'\n",
            " 'Malay' 'Mandarin' 'Marathi' 'Norwegian' 'Polish' 'Portuguese' 'Russian'\n",
            " 'Spanish' 'Swedish' 'Taiwanese' 'Tamil' 'Thai' 'Thia' 'Turkish'\n",
            " 'Ukranian']\n"
          ]
        }
      ]
    },
    {
      "cell_type": "code",
      "source": [
        "fig = plt.figure(figsize = (12,8))\n",
        "plt.bar(langlists.index.values,langlists[\"Langs\"])\n",
        "plt.xticks(rotation=90)\n",
        "\n",
        "plt.title(\"Feature Films by Language\")\n",
        "plt.xlabel(\"Languages\")\n",
        "plt.ylabel(\"Movie Values\")\n",
        "\n",
        "plt.grid()\n",
        "plt.show"
      ],
      "metadata": {
        "colab": {
          "base_uri": "https://localhost:8080/",
          "height": 576
        },
        "outputId": "512fa9a7-bcf0-430e-de0a-2f8aa3c08603",
        "id": "SUpHCV7DDVqQ"
      },
      "execution_count": 59,
      "outputs": [
        {
          "output_type": "execute_result",
          "data": {
            "text/plain": [
              "<function matplotlib.pyplot.show>"
            ]
          },
          "metadata": {},
          "execution_count": 59
        },
        {
          "output_type": "display_data",
          "data": {
            "text/plain": [
              "<Figure size 864x576 with 1 Axes>"
            ],
            "image/png": "[encoded data removed]"
          },
          "metadata": {
            "needs_background": "light"
          }
        }
      ]
    },
    {
      "cell_type": "markdown",
      "source": [
        "---\n",
        "Grafikten de görüldüğü veri setimizde uzun soluklu filmlerde en çok kullanılan dil açık ara İngilizce'dir.\n",
        "\n",
        "---"
      ],
      "metadata": {
        "id": "-4yxxCmCEnzH"
      }
    },
    {
      "cell_type": "markdown",
      "source": [
        "\n",
        "**2. 2019 Ocak ile 2020 Haziran tarihleri arasında 'Documentary' türünde çekilmiş filmlerin IMDB değerlerini bulup görselleştiriniz.**\n",
        "---\n",
        "---\n",
        "\n",
        "\n"
      ],
      "metadata": {
        "id": "yEUYf90m3fZp"
      }
    },
    {
      "cell_type": "markdown",
      "source": [
        "**Tarih Değiştirme**\n",
        "\n",
        "Premier tarihleri olarak \"ay ismi gün, yıl\" olarak veriler verilmiş ve bu \n",
        "verileri sayısal tarihlere dönüştürmemiz gerekiyor. Fakat bu değişimi yapmadan önce bazı tarihler \",\" yerine \".\" kullanıldığı farkedilmiştir. Bu nedenle öncelikle \".\" sembolü \",\" sembolüne döndürülmüştür daha sonra ise tarih verisi sayısal olarak elde edilmiştir.\n",
        "\n"
      ],
      "metadata": {
        "id": "9c9mqD-gxQuz"
      }
    },
    {
      "cell_type": "code",
      "source": [
        "premiere = list(data[\"Premiere\"])\n",
        "\n",
        "premiere2 = []\n",
        "for i in list(premiere):\n",
        "  i = i.replace(\".\", \",\")\n",
        "  premiere2.append(i)\n",
        "\n",
        "print(premiere2[111])\n"
      ],
      "metadata": {
        "colab": {
          "base_uri": "https://localhost:8080/"
        },
        "id": "bbiPZMXy_faD",
        "outputId": "570aab9c-3e41-400d-afa6-70d6deb36605"
      },
      "execution_count": 60,
      "outputs": [
        {
          "output_type": "stream",
          "name": "stdout",
          "text": [
            "October 16, 2019\n"
          ]
        }
      ]
    },
    {
      "cell_type": "code",
      "source": [
        "from datetime import datetime\n",
        "\n",
        "premiere3= []\n",
        "\n",
        "for date in list(premiere2):\n",
        "  date2 = datetime.strptime(date, \"%B %d, %Y\")\n",
        "  date3 = date2.strftime(\"%Y-%m-%d\")\n",
        "  premiere3.append(date3)\n",
        "\n",
        "print(premiere3)"
      ],
      "metadata": {
        "colab": {
          "base_uri": "https://localhost:8080/"
        },
        "id": "LOHUzQEIqCDL",
        "outputId": "3f35c9ca-b100-4252-f935-2554e535cfad"
      },
      "execution_count": 61,
      "outputs": [
        {
          "output_type": "stream",
          "name": "stdout",
          "text": [
            "['2019-08-05', '2020-08-21', '2019-12-26', '2018-01-19', '2020-10-30', '2019-11-01', '2020-12-04', '2020-06-05', '2018-03-23', '2021-05-18', '2021-04-22', '2020-11-27', '2020-09-18', '2020-10-01', '2016-11-22', '2019-12-19', '2020-01-01', '2020-02-21', '2021-01-01', '2017-08-25', '2019-09-13', '2019-07-18', '2019-08-16', '2021-02-26', '2021-04-09', '2020-07-16', '2021-04-02', '2020-07-31', '2021-02-10', '2018-12-07', '2019-05-24', '2016-10-28', '2019-02-22', '2019-12-03', '2019-10-25', '2020-07-15', '2020-07-14', '2020-11-30', '2019-01-18', '2021-03-05', '2020-04-02', '2020-10-02', '2020-12-25', '2020-12-04', '2017-01-06', '2020-05-01', '2020-10-28', '2017-01-20', '2020-04-10', '2015-12-11', '2020-04-17', '2020-08-14', '2019-11-28', '2020-10-30', '2020-01-23', '2018-07-13', '2020-10-15', '2016-07-15', '2021-02-11', '2020-10-22', '2017-01-13', '2020-04-03', '2018-04-20', '2021-02-25', '2020-07-23', '2017-09-08', '2019-08-21', '2020-07-03', '2020-11-22', '2018-07-20', '2019-02-22', '2021-05-26', '2017-02-14', '2017-05-05', '2020-10-07', '2018-05-25', '2019-05-24', '2017-04-14', '2019-05-17', '2019-05-14', '2021-02-05', '2019-09-13', '2020-11-27', '2018-04-27', '2018-11-30', '2019-08-30', '2020-04-30', '2020-08-12', '2020-05-28', '2018-09-07', '2021-04-29', '2018-06-24', '2019-04-12', '2016-08-26', '2020-10-15', '2019-12-05', '2019-05-03', '2020-09-18', '2020-09-02', '2018-03-23', '2020-03-06', '2019-10-04', '2021-04-02', '2017-08-11', '2021-01-15', '2020-11-19', '2020-07-01', '2015-12-04', '2018-10-26', '2019-12-01', '2021-04-28', '2019-10-16', '2019-11-15', '2019-02-08', '2020-04-10', '2018-02-23', '2020-10-02', '2021-02-11', '2021-04-15', '2018-01-19', '2018-02-04', '2019-11-21', '2018-07-06', '2018-08-10', '2019-04-05', '2019-05-10', '2017-10-12', '2016-07-07', '2021-01-15', '2019-08-29', '2018-09-28', '2020-09-03', '2020-06-19', '2020-10-27', '2019-01-11', '2021-02-05', '2020-12-23', '2020-09-16', '2020-08-21', '2020-10-02', '2021-04-14', '2021-03-26', '2021-03-25', '2017-12-15', '2020-09-11', '2017-12-08', '2019-10-18', '2020-10-09', '2019-05-16', '2019-01-04', '2017-09-01', '2020-06-18', '2018-12-12', '2019-07-12', '2021-04-14', '2016-05-27', '2018-11-02', '2021-05-14', '2020-05-13', '2019-02-01', '2021-03-12', '2019-03-29', '2020-12-14', '2017-11-17', '2020-05-01', '2019-11-01', '2016-12-16', '2018-04-27', '2020-06-05', '2020-08-21', '2018-07-27', '2018-03-30', '2021-05-14', '2019-11-08', '2016-10-13', '2020-11-05', '2018-11-30', '2020-04-30', '2020-04-17', '2017-04-28', '2018-09-07', '2017-04-28', '2016-04-29', '2018-06-29', '2018-08-24', '2020-09-10', '2020-12-07', '2020-07-24', '2019-04-12', '2020-11-11', '2020-10-02', '2018-04-06', '2020-01-17', '2018-04-06', '2021-05-21', '2018-11-16', '2019-11-15', '2019-07-16', '2020-02-07', '2018-09-28', '2020-03-27', '2020-03-27', '2021-01-01', '2018-01-12', '2020-12-11', '2016-11-11', '2020-03-20', '2018-04-13', '2018-05-04', '2017-01-27', '2019-08-09', '2019-03-08', '2019-06-14', '2020-08-14', '2020-10-21', '2020-11-25', '2018-05-11', '2018-11-16', '2020-02-12', '2017-05-26', '2019-12-13', '2019-09-20', '2017-03-10', '2017-04-28', '2017-03-17', '2021-01-29', '2020-10-28', '2019-11-01', '2015-05-29', '2018-08-03', '2020-03-13', '2019-08-02', '2016-03-18', '2020-10-30', '2020-04-17', '2021-01-08', '2021-04-01', '2017-11-10', '2020-05-22', '2017-03-24', '2019-05-24', '2021-01-15', '2020-08-28', '2020-08-07', '2020-11-20', '2021-05-26', '2021-01-29', '2020-11-06', '2020-08-17', '2021-04-09', '2019-02-08', '2019-09-27', '2020-06-19', '2020-08-14', '2020-07-24', '2018-03-23', '2019-04-19', '2020-03-06', '2018-09-14', '2018-04-27', '2017-12-01', '2017-04-07', '2017-10-20', '2019-05-22', '2018-06-08', '2018-10-12', '2018-03-16', '2017-12-22', '2018-05-18', '2021-04-02', '2020-06-19', '2021-03-18', '2018-04-13', '2021-01-28', '2019-04-19', '2021-05-26', '2020-11-24', '2019-01-25', '2018-12-21', '2017-04-21', '2017-06-09', '2016-12-09', '2017-10-13', '2017-03-31', '2019-10-11', '2019-10-18', '2019-03-29', '2018-03-09', '2020-04-23', '2021-02-12', '2019-08-28', '2020-03-27', '2020-08-05', '2020-12-21', '2016-09-16', '2019-09-25', '2019-12-24', '2018-03-30', '2019-10-11', '2018-02-16', '2020-02-14', '2020-08-20', '2021-02-11', '2020-04-29', '2014-12-13', '2018-09-21', '2020-10-23', '2019-10-12', '2017-09-15', '2019-09-27', '2018-03-16', '2021-01-14', '2017-05-05', '2020-03-25', '2020-04-22', '2019-03-13', '2018-09-28', '2019-03-08', '2017-10-20', '2018-02-09', '2019-10-28', '2020-02-28', '2020-08-28', '2020-03-19', '2019-03-21', '2020-12-11', '2021-04-17', '2019-05-31', '2020-06-12', '2021-04-07', '2020-06-26', '2017-09-29', '2020-10-30', '2020-11-13', '2019-06-14', '2018-06-15', '2021-05-07', '2018-12-07', '2020-06-24', '2017-06-23', '2021-05-12', '2018-06-15', '2017-07-28', '2020-04-10', '2017-04-21', '2020-01-20', '2021-03-26', '2018-12-21', '2020-06-24', '2021-02-26', '2019-06-07', '2016-08-19', '2020-09-04', '2019-10-25', '2021-05-07', '2018-06-29', '2018-12-07', '2020-11-23', '2021-02-05', '2018-12-07', '2018-09-14', '2020-08-20', '2019-07-31', '2021-01-15', '2020-06-18', '2021-04-16', '2021-04-16', '2019-11-20', '2017-05-20', '2021-05-27', '2017-06-16', '2021-01-11', '2020-04-24', '2020-12-11', '2020-11-24', '2020-09-15', '2017-02-03', '2020-12-03', '2019-10-28', '2021-02-05', '2017-02-07', '2021-03-03', '2021-04-09', '2021-03-12', '2019-07-10', '2016-07-29', '2020-07-10', '2016-07-15', '2019-10-18', '2018-10-10', '2016-10-28', '2018-01-26', '2020-03-20', '2020-09-21', '2019-05-03', '2019-05-31', '2020-05-06', '2018-08-03', '2018-06-29', '2020-12-27', '2020-09-17', '2020-05-11', '2017-09-12', '2018-04-20', '2017-11-21', '2020-10-02', '2020-09-30', '2020-09-30', '2020-11-13', '2018-11-02', '2018-02-09', '2017-07-14', '2021-01-06', '2020-12-24', '2016-09-30', '2020-10-08', '2021-03-01', '2020-12-28', '2017-02-24', '2017-05-19', '2020-12-04', '2017-09-29', '2018-11-09', '2021-03-26', '2018-10-12', '2018-02-09', '2020-06-03', '2020-07-10', '2020-05-01', '2019-03-29', '2019-05-23', '2017-10-13', '2018-10-12', '2017-09-22', '2020-11-03', '2017-10-13', '2019-11-20', '2019-09-15', '2020-12-18', '2020-12-18', '2021-03-17', '2021-02-23', '2019-04-26', '2019-05-17', '2019-03-22', '2017-09-01', '2019-08-09', '2020-12-09', '2018-11-22', '2019-03-22', '2018-10-19', '2017-01-26', '2018-11-30', '2020-12-01', '2019-06-19', '2020-04-22', '2020-11-27', '2018-10-19', '2019-12-27', '2018-05-04', '2019-09-10', '2021-05-14', '2019-04-20', '2020-10-27', '2017-05-26', '2015-09-18', '2019-05-01', '2018-11-13', '2016-03-18', '2017-10-20', '2021-01-07', '2018-04-06', '2018-11-02', '2020-10-15', '2020-09-16', '2021-01-29', '2019-07-24', '2021-01-22', '2018-08-17', '2020-09-30', '2016-09-23', '2017-09-15', '2019-01-18', '2016-10-28', '2020-04-10', '2018-03-08', '2018-02-14', '2019-02-22', '2018-10-05', '2019-10-18', '2018-05-01', '2019-01-18', '2020-10-09', '2021-04-30', '2019-06-19', '2019-11-01', '2019-10-29', '2016-10-07', '2018-08-10', '2019-10-25', '2019-10-11', '2016-09-13', '2020-07-17', '2017-05-12', '2020-05-27', '2020-07-08', '2020-10-13', '2017-06-28', '2018-09-12', '2020-07-31', '2019-01-11', '2019-02-08', '2020-10-28', '2020-03-08', '2016-10-14', '2016-04-29', '2018-11-16', '2017-10-06', '2016-06-24', '2015-05-22', '2019-08-21', '2019-11-01', '2017-09-29', '2020-01-31', '2019-02-12', '2020-11-25', '2018-10-26', '2019-06-07', '2019-11-27', '2020-07-29', '2018-11-02', '2015-07-17', '2017-11-22', '2020-10-14', '2018-09-07', '2020-10-02', '2019-04-17', '2019-08-16', '2017-10-27', '2019-12-24', '2018-09-13', '2016-09-16', '2020-06-24', '2020-11-12', '2018-09-21', '2019-06-12', '2019-10-18', '2018-07-27', '2020-09-09', '2019-12-20', '2015-06-26', '2020-02-21', '2019-06-27', '2015-10-16', '2019-04-19', '2020-03-25', '2017-11-17', '2016-10-12', '2020-02-11', '2018-12-14', '2020-11-20', '2019-11-27', '2020-10-16', '2020-04-29', '2017-08-04', '2019-12-06', '2016-11-04', '2018-12-21', '2017-07-14', '2020-09-07', '2020-08-26', '2016-10-07', '2020-06-19', '2019-11-15', '2021-03-24', '2020-10-14', '2017-11-24', '2019-10-23', '2020-05-20', '2018-12-31', '2015-10-09', '2018-12-16', '2020-12-08', '2020-10-04']\n"
          ]
        }
      ]
    },
    {
      "cell_type": "code",
      "source": [
        "data[\"Premiere_numeric\"] = premiere3\n",
        "print(data.head())"
      ],
      "metadata": {
        "colab": {
          "base_uri": "https://localhost:8080/"
        },
        "id": "P4NP2ZDQxBhQ",
        "outputId": "36629bb3-0e63-4215-d7d5-cde4a8d19a49"
      },
      "execution_count": 62,
      "outputs": [
        {
          "output_type": "stream",
          "name": "stdout",
          "text": [
            "             Title                  Genre           Premiere  Runtime  \\\n",
            "0  Enter the Anime            Documentary     August 5, 2019       58   \n",
            "1      Dark Forces               Thriller    August 21, 2020       81   \n",
            "2          The App  Science fiction/Drama  December 26, 2019       79   \n",
            "3   The Open House        Horror thriller   January 19, 2018       94   \n",
            "4      Kaali Khuhi                Mystery   October 30, 2020       90   \n",
            "\n",
            "   IMDB Score          Language Premiere_numeric  \n",
            "0         2.5  English/Japanese       2019-08-05  \n",
            "1         2.6           Spanish       2020-08-21  \n",
            "2         2.6           Italian       2019-12-26  \n",
            "3         3.2           English       2018-01-19  \n",
            "4         3.4             Hindi       2020-10-30  \n"
          ]
        }
      ]
    },
    {
      "cell_type": "markdown",
      "source": [
        "---"
      ],
      "metadata": {
        "id": "iJ7DKnzmaIcy"
      }
    },
    {
      "cell_type": "code",
      "source": [
        "print(data[\"Premiere_numeric\"])"
      ],
      "metadata": {
        "colab": {
          "base_uri": "https://localhost:8080/"
        },
        "id": "UFuqqg4P3blD",
        "outputId": "5f071e13-1ec6-46d8-9100-48d6b0365c42"
      },
      "execution_count": 63,
      "outputs": [
        {
          "output_type": "stream",
          "name": "stdout",
          "text": [
            "0      2019-08-05\n",
            "1      2020-08-21\n",
            "2      2019-12-26\n",
            "3      2018-01-19\n",
            "4      2020-10-30\n",
            "          ...    \n",
            "579    2018-12-31\n",
            "580    2015-10-09\n",
            "581    2018-12-16\n",
            "582    2020-12-08\n",
            "583    2020-10-04\n",
            "Name: Premiere_numeric, Length: 584, dtype: object\n"
          ]
        }
      ]
    },
    {
      "cell_type": "code",
      "source": [
        "data_doc = data[data[\"Genre\"] == \"Documentary\"]\n",
        "print(data_doc.head())"
      ],
      "metadata": {
        "colab": {
          "base_uri": "https://localhost:8080/"
        },
        "id": "4ZhKlCkyrhXJ",
        "outputId": "d83b78a9-dbce-4d47-bea5-fda6deeed910"
      },
      "execution_count": 64,
      "outputs": [
        {
          "output_type": "stream",
          "name": "stdout",
          "text": [
            "                                Title        Genre            Premiere  \\\n",
            "0                     Enter the Anime  Documentary      August 5, 2019   \n",
            "10               Searching for Sheela  Documentary      April 22, 2021   \n",
            "15                     After the Raid  Documentary   December 19, 2019   \n",
            "20  Hello Privilege. It's Me, Chelsea  Documentary  September 13, 2019   \n",
            "30                        After Maria  Documentary        May 24, 2019   \n",
            "\n",
            "    Runtime  IMDB Score          Language Premiere_numeric  \n",
            "0        58         2.5  English/Japanese       2019-08-05  \n",
            "10       58         4.1           English       2021-04-22  \n",
            "15       25         4.3           Spanish       2019-12-19  \n",
            "20       64         4.4           English       2019-09-13  \n",
            "30       37         4.6   English/Spanish       2019-05-24  \n"
          ]
        }
      ]
    },
    {
      "cell_type": "code",
      "source": [
        "data_doc2 = data_doc[data_doc[\"Premiere_numeric\"] <= \"2020-06-30\" ]\n",
        "data_doc3 = data_doc2[\"2019-01-01\" <= data_doc2[\"Premiere_numeric\"] ]\n",
        "print(data_doc3.head())"
      ],
      "metadata": {
        "colab": {
          "base_uri": "https://localhost:8080/"
        },
        "id": "SyIwBqeatc1i",
        "outputId": "71a336c2-a7ee-4a72-d5d2-d867d2b17bac"
      },
      "execution_count": 65,
      "outputs": [
        {
          "output_type": "stream",
          "name": "stdout",
          "text": [
            "                                 Title        Genre            Premiere  \\\n",
            "0                      Enter the Anime  Documentary      August 5, 2019   \n",
            "15                      After the Raid  Documentary   December 19, 2019   \n",
            "20   Hello Privilege. It's Me, Chelsea  Documentary  September 13, 2019   \n",
            "30                         After Maria  Documentary        May 24, 2019   \n",
            "111               Ghosts of Sugar Land  Documentary    October 16. 2019   \n",
            "\n",
            "     Runtime  IMDB Score          Language Premiere_numeric  \n",
            "0         58         2.5  English/Japanese       2019-08-05  \n",
            "15        25         4.3           Spanish       2019-12-19  \n",
            "20        64         4.4           English       2019-09-13  \n",
            "30        37         4.6   English/Spanish       2019-05-24  \n",
            "111       21         5.5           English       2019-10-16  \n"
          ]
        }
      ]
    },
    {
      "cell_type": "code",
      "source": [
        "data_doc4 = data_doc3.sort_values(\"Premiere_numeric\")\n",
        "print(data_doc4.head())"
      ],
      "metadata": {
        "colab": {
          "base_uri": "https://localhost:8080/"
        },
        "id": "ZdOlkMpYywCF",
        "outputId": "4c7361c6-49a2-4023-951d-2ade6aad8f9a"
      },
      "execution_count": 66,
      "outputs": [
        {
          "output_type": "stream",
          "name": "stdout",
          "text": [
            "                                            Title        Genre  \\\n",
            "510           ReMastered: Massacre at the Stadium  Documentary   \n",
            "482  Fyre: The Greatest Party That Never Happened  Documentary   \n",
            "511     ReMastered: The Two Killings of Sam Cooke  Documentary   \n",
            "524                      Period. End of Sentence.  Documentary   \n",
            "324     Antoine Griezmann: The Making of a Legend  Documentary   \n",
            "\n",
            "              Premiere  Runtime  IMDB Score         Language Premiere_numeric  \n",
            "510   January 11, 2019       64         7.3  English/Spanish       2019-01-11  \n",
            "482   January 18, 2019       97         7.2          English       2019-01-18  \n",
            "511   February 8, 2019       64         7.3          English       2019-02-08  \n",
            "524  February 12, 2019       26         7.4    English/Hindi       2019-02-12  \n",
            "324     March 21, 2019       60         6.5           French       2019-03-21  \n"
          ]
        }
      ]
    },
    {
      "cell_type": "code",
      "source": [
        "#Create a figure object of the size 18x5\n",
        "fig = plt.figure(figsize = (15,5))\n",
        "\n",
        "plt.plot(data_doc4[\"Premiere_numeric\"], data_doc4[\"IMDB Score\"], color = \"red\")\n",
        "plt.title(\"Premier date vs. IMDB Score\")\n",
        "plt.grid()\n",
        "plt.xticks(rotation=90)\n",
        "plt.show()"
      ],
      "metadata": {
        "colab": {
          "base_uri": "https://localhost:8080/",
          "height": 384
        },
        "id": "vQzhLpD0zJP5",
        "outputId": "0dfe5e17-e1ea-4bee-f700-c61382cd76ff"
      },
      "execution_count": 67,
      "outputs": [
        {
          "output_type": "display_data",
          "data": {
            "text/plain": [
              "<Figure size 1080x360 with 1 Axes>"
            ],
            "image/png": "[encoded data removed]"
          },
          "metadata": {
            "needs_background": "light"
          }
        }
      ]
    },
    {
      "cell_type": "markdown",
      "source": [
        "**3. İngilizce çekilen filmler içerisinde en yüksek IMDB puanına sahip tür.**\n",
        "---\n",
        "---"
      ],
      "metadata": {
        "id": "J2jZyegb1Lrj"
      }
    },
    {
      "cell_type": "code",
      "source": [
        "data[\"Language\"] = data[\"Language\"].str.split(\"/\")\n",
        "data[\"Language\"]"
      ],
      "metadata": {
        "colab": {
          "base_uri": "https://localhost:8080/"
        },
        "id": "stLK2LD2IqdV",
        "outputId": "1e2c2ea8-87ac-4c4a-8b45-75229b63cec5"
      },
      "execution_count": 68,
      "outputs": [
        {
          "output_type": "execute_result",
          "data": {
            "text/plain": [
              "0               [English, Japanese]\n",
              "1                         [Spanish]\n",
              "2                         [Italian]\n",
              "3                         [English]\n",
              "4                           [Hindi]\n",
              "                   ...             \n",
              "579                       [English]\n",
              "580    [English, Ukranian, Russian]\n",
              "581                       [English]\n",
              "582                    [Portuguese]\n",
              "583                       [English]\n",
              "Name: Language, Length: 584, dtype: object"
            ]
          },
          "metadata": {},
          "execution_count": 68
        }
      ]
    },
    {
      "cell_type": "markdown",
      "source": [
        "---\n",
        "Verimizden sadece İngilizce diline sahip olan filmleri çekmek için bir takım ön işlem uyguluyoruz.\n",
        "\n",
        "---"
      ],
      "metadata": {
        "id": "wP42bXWPlPvz"
      }
    },
    {
      "cell_type": "code",
      "source": [
        "data_lang = data[\"Language\"]\n",
        "\n",
        "data_lang_len = len(data_lang)\n",
        "true_list = []\n",
        "\n",
        "for i in range(0,data_lang_len):\n",
        "  a = \"English\" in data_lang[i]\n",
        "  if a == True:\n",
        "    true_list.append(i)\n",
        "\n",
        "print(true_list)\n",
        "data_eng = data.loc[true_list].reset_index()\n"
      ],
      "metadata": {
        "colab": {
          "base_uri": "https://localhost:8080/"
        },
        "id": "aD_Lf891TjE6",
        "outputId": "343da3fb-780f-40d0-a2e2-8a90c14dbd75"
      },
      "execution_count": 69,
      "outputs": [
        {
          "output_type": "stream",
          "name": "stdout",
          "text": [
            "[0, 3, 7, 8, 10, 14, 17, 19, 20, 21, 22, 24, 25, 27, 30, 31, 34, 38, 40, 42, 44, 47, 48, 49, 51, 52, 55, 57, 60, 61, 62, 64, 65, 66, 67, 68, 69, 72, 73, 74, 75, 76, 77, 78, 79, 80, 81, 83, 84, 86, 90, 93, 94, 95, 99, 101, 103, 104, 105, 107, 108, 111, 113, 114, 115, 116, 119, 120, 121, 122, 123, 124, 125, 127, 129, 130, 131, 133, 134, 136, 138, 139, 140, 141, 143, 145, 146, 148, 149, 150, 152, 153, 155, 156, 157, 158, 159, 160, 162, 163, 164, 165, 166, 167, 170, 171, 172, 173, 174, 175, 179, 180, 181, 182, 183, 184, 185, 187, 188, 191, 192, 193, 194, 195, 196, 197, 198, 199, 202, 203, 204, 205, 207, 209, 211, 212, 213, 214, 215, 216, 217, 218, 219, 220, 221, 222, 223, 224, 225, 226, 227, 228, 229, 230, 231, 232, 234, 238, 239, 240, 243, 244, 247, 250, 251, 253, 255, 256, 257, 258, 259, 260, 261, 262, 263, 264, 265, 266, 267, 268, 269, 270, 275, 277, 279, 280, 281, 282, 283, 285, 286, 287, 289, 290, 291, 293, 294, 295, 297, 298, 299, 301, 303, 304, 305, 306, 308, 309, 310, 312, 314, 315, 317, 318, 319, 320, 321, 322, 325, 326, 328, 329, 330, 331, 332, 333, 334, 336, 337, 339, 341, 342, 343, 344, 345, 346, 347, 351, 352, 353, 355, 356, 357, 359, 360, 362, 363, 366, 367, 369, 370, 371, 372, 373, 374, 375, 376, 379, 380, 381, 385, 386, 387, 389, 391, 393, 394, 395, 396, 398, 399, 401, 402, 403, 404, 406, 407, 409, 411, 414, 416, 417, 418, 420, 421, 422, 424, 425, 426, 427, 428, 429, 430, 431, 432, 433, 434, 435, 438, 439, 440, 441, 442, 443, 444, 445, 446, 448, 449, 451, 452, 453, 454, 455, 456, 457, 459, 460, 462, 464, 465, 466, 467, 468, 469, 470, 471, 472, 474, 475, 476, 477, 478, 479, 480, 481, 482, 483, 484, 485, 487, 488, 492, 495, 496, 497, 498, 499, 500, 501, 502, 503, 505, 506, 507, 510, 511, 512, 513, 514, 515, 516, 517, 518, 519, 520, 521, 522, 523, 524, 525, 526, 527, 528, 529, 530, 531, 532, 534, 535, 536, 537, 538, 539, 540, 541, 542, 544, 545, 546, 547, 548, 549, 550, 552, 553, 554, 555, 556, 557, 560, 561, 562, 563, 564, 565, 566, 567, 568, 569, 570, 571, 572, 573, 574, 576, 577, 578, 579, 580, 581, 583]\n"
          ]
        }
      ]
    },
    {
      "cell_type": "code",
      "source": [
        "data_eng = data_eng.sort_values(\"IMDB Score\", ascending = False)\n",
        "best_eng_movie = data_eng.loc[0]\n",
        "print(\"The name of the best English movie: \", best_eng_movie[\"Title\"])\n",
        "print(\"The genre of English movie which has the highest IMDB Score: \",best_eng_movie[\"Genre\"])"
      ],
      "metadata": {
        "colab": {
          "base_uri": "https://localhost:8080/"
        },
        "id": "ETu0mZT41KzW",
        "outputId": "085ba662-384c-4a9e-bdd9-dbc69c61e387"
      },
      "execution_count": 70,
      "outputs": [
        {
          "output_type": "stream",
          "name": "stdout",
          "text": [
            "The name of the best English movie:  Enter the Anime\n",
            "The genre of English movie which has the highest IMDB Score:  Documentary\n"
          ]
        }
      ]
    },
    {
      "cell_type": "markdown",
      "source": [
        "---\n",
        "İngilizce dilinde çekilen en yüksek IMDB puanlı filmin türü \"Documentary\" dir.\n",
        "\n",
        "---"
      ],
      "metadata": {
        "id": "4rIWXHTzE5Bg"
      }
    },
    {
      "cell_type": "markdown",
      "source": [
        "**4. 'Hindi' Dilinde çekilmiş olan filmlerin ortalama 'runtime' suresi nedir?**\n",
        "---\n",
        "---"
      ],
      "metadata": {
        "id": "KA8D_JIU5DaL"
      }
    },
    {
      "cell_type": "code",
      "source": [
        "true_list2 = []\n",
        "\n",
        "for i in range(0,data_lang_len):\n",
        "  a = \"Hindi\" in data_lang[i]\n",
        "  if a == True:\n",
        "    true_list2.append(i)\n",
        "\n",
        "data_hindi = data.loc[true_list2].reset_index()\n",
        "print(data_hindi.head())"
      ],
      "metadata": {
        "colab": {
          "base_uri": "https://localhost:8080/"
        },
        "id": "Uo2q0i1ul3s6",
        "outputId": "47377f06-213e-44a2-a174-588131d1d378"
      },
      "execution_count": 71,
      "outputs": [
        {
          "output_type": "stream",
          "name": "stdout",
          "text": [
            "   index                  Title             Genre           Premiere  Runtime  \\\n",
            "0      4            Kaali Khuhi           Mystery   October 30, 2020       90   \n",
            "1      5                  Drive            Action   November 1, 2019      147   \n",
            "2      9     Sardar Ka Grandson            Comedy       May 18, 2021      139   \n",
            "3     16          Ghost Stories  Horror anthology    January 1, 2020      144   \n",
            "4     23  The Girl on the Train          Thriller  February 26, 2021      120   \n",
            "\n",
            "   IMDB Score Language Premiere_numeric  \n",
            "0         3.4  [Hindi]       2020-10-30  \n",
            "1         3.5  [Hindi]       2019-11-01  \n",
            "2         4.1  [Hindi]       2021-05-18  \n",
            "3         4.3  [Hindi]       2020-01-01  \n",
            "4         4.4  [Hindi]       2021-02-26  \n"
          ]
        }
      ]
    },
    {
      "cell_type": "code",
      "source": [
        "print(\"Average runtime of movies shot in 'Hindi' language: \",data_hindi[\"Runtime\"].mean(), \" minutes\")"
      ],
      "metadata": {
        "colab": {
          "base_uri": "https://localhost:8080/"
        },
        "id": "AlJdM0Nh5MRj",
        "outputId": "3733214c-33ca-4bee-bef8-ee5dc6821558"
      },
      "execution_count": 72,
      "outputs": [
        {
          "output_type": "stream",
          "name": "stdout",
          "text": [
            "Average runtime of movies shot in 'Hindi' language:  111.02857142857142  minutes\n"
          ]
        }
      ]
    },
    {
      "cell_type": "markdown",
      "source": [
        "---\n",
        "Hinçe dilinde çekilmiş filmlerin ortalama \"Runtime\" verileri 111.028 dir.\n",
        "\n",
        "---"
      ],
      "metadata": {
        "id": "w4QB5GgeFJQ0"
      }
    },
    {
      "cell_type": "markdown",
      "source": [
        "**5. 'Genre' sütunu kaç kategoriye sahiptir ve bu kategoriler nelerdir? Görselleştirerek ifade ediniz.**\n",
        "---\n",
        "---"
      ],
      "metadata": {
        "id": "VxZBORKe8TGg"
      }
    },
    {
      "cell_type": "code",
      "source": [
        "films99=data[\"Genre\"].str.upper()\n",
        "data[\"Genre2\"]=films99.str.split('[-,/, ]')\n",
        "data[\"Genre2\"].head()"
      ],
      "metadata": {
        "colab": {
          "base_uri": "https://localhost:8080/"
        },
        "id": "Xqf852w1fbCR",
        "outputId": "e1247f96-e12e-45bb-d8d3-1a6122e31626"
      },
      "execution_count": 73,
      "outputs": [
        {
          "output_type": "execute_result",
          "data": {
            "text/plain": [
              "0                [DOCUMENTARY]\n",
              "1                   [THRILLER]\n",
              "2    [SCIENCE, FICTION, DRAMA]\n",
              "3           [HORROR, THRILLER]\n",
              "4                    [MYSTERY]\n",
              "Name: Genre2, dtype: object"
            ]
          },
          "metadata": {},
          "execution_count": 73
        }
      ]
    },
    {
      "cell_type": "code",
      "source": [
        "films=data.Genre.str.upper()\n",
        "films=films.str.split('[-,/, ]', expand = True)\n",
        "films_1=films[0].groupby([films[0].values]).size()\n",
        "films_2=films[1].groupby([films[1].values]).size()\n",
        "films_3=films[2].groupby([films[2].values]).size()\n",
        "films_4=films[3].groupby([films[3].values]).size()\n",
        "\n",
        "lists=pd.DataFrame(pd.concat([films_1, films_2,films_3,films_4]))\n",
        "lists.drop(['','OF','ONE'],axis=0,inplace=True)\n",
        "lists.groupby([lists.index.values]).sum()\n",
        "\n",
        "print(lists.groupby(lists.index.values).sum())\n",
        "print(\"Genre:\",len(lists.groupby(lists.index.values).size()))"
      ],
      "metadata": {
        "colab": {
          "base_uri": "https://localhost:8080/"
        },
        "id": "2Xbu0dgRZVrl",
        "outputId": "3ef86d60-edc1-416c-f097-3821e969d1ed"
      },
      "execution_count": 74,
      "outputs": [
        {
          "output_type": "stream",
          "name": "stdout",
          "text": [
            "            0\n",
            "ACTION     21\n",
            "ADVENTURE  10\n",
            "AFTERSHOW   6\n",
            "AGE         1\n",
            "ANIMATED    1\n",
            "...        ..\n",
            "URBAN       1\n",
            "VARIETY     5\n",
            "WAR         5\n",
            "WESTERN     4\n",
            "ZOMBIE      1\n",
            "\n",
            "[64 rows x 1 columns]\n",
            "Genre: 64\n"
          ]
        }
      ]
    },
    {
      "cell_type": "code",
      "source": [
        "data.head()"
      ],
      "metadata": {
        "colab": {
          "base_uri": "https://localhost:8080/",
          "height": 206
        },
        "id": "hUxUedE2dE2k",
        "outputId": "76c476c2-19e8-440c-be47-791a9f7c08fb"
      },
      "execution_count": 75,
      "outputs": [
        {
          "output_type": "execute_result",
          "data": {
            "text/plain": [
              "             Title                  Genre           Premiere  Runtime  \\\n",
              "0  Enter the Anime            Documentary     August 5, 2019       58   \n",
              "1      Dark Forces               Thriller    August 21, 2020       81   \n",
              "2          The App  Science fiction/Drama  December 26, 2019       79   \n",
              "3   The Open House        Horror thriller   January 19, 2018       94   \n",
              "4      Kaali Khuhi                Mystery   October 30, 2020       90   \n",
              "\n",
              "   IMDB Score             Language Premiere_numeric                     Genre2  \n",
              "0         2.5  [English, Japanese]       2019-08-05              [DOCUMENTARY]  \n",
              "1         2.6            [Spanish]       2020-08-21                 [THRILLER]  \n",
              "2         2.6            [Italian]       2019-12-26  [SCIENCE, FICTION, DRAMA]  \n",
              "3         3.2            [English]       2018-01-19         [HORROR, THRILLER]  \n",
              "4         3.4              [Hindi]       2020-10-30                  [MYSTERY]  "
            ],
            "text/html": [
              "\n",
              "  <div id=\"df-a07f4753-197d-4a5f-b3f9-566aa1afed22\">\n",
              "    <div class=\"colab-df-container\">\n",
              "      <div>\n",
              "<style scoped>\n",
              "    .dataframe tbody tr th:only-of-type {\n",
              "        vertical-align: middle;\n",
              "    }\n",
              "\n",
              "    .dataframe tbody tr th {\n",
              "        vertical-align: top;\n",
              "    }\n",
              "\n",
              "    .dataframe thead th {\n",
              "        text-align: right;\n",
              "    }\n",
              "</style>\n",
              "<table border=\"1\" class=\"dataframe\">\n",
              "  <thead>\n",
              "    <tr style=\"text-align: right;\">\n",
              "      <th></th>\n",
              "      <th>Title</th>\n",
              "      <th>Genre</th>\n",
              "      <th>Premiere</th>\n",
              "      <th>Runtime</th>\n",
              "      <th>IMDB Score</th>\n",
              "      <th>Language</th>\n",
              "      <th>Premiere_numeric</th>\n",
              "      <th>Genre2</th>\n",
              "    </tr>\n",
              "  </thead>\n",
              "  <tbody>\n",
              "    <tr>\n",
              "      <th>0</th>\n",
              "      <td>Enter the Anime</td>\n",
              "      <td>Documentary</td>\n",
              "      <td>August 5, 2019</td>\n",
              "      <td>58</td>\n",
              "      <td>2.5</td>\n",
              "      <td>[English, Japanese]</td>\n",
              "      <td>2019-08-05</td>\n",
              "      <td>[DOCUMENTARY]</td>\n",
              "    </tr>\n",
              "    <tr>\n",
              "      <th>1</th>\n",
              "      <td>Dark Forces</td>\n",
              "      <td>Thriller</td>\n",
              "      <td>August 21, 2020</td>\n",
              "      <td>81</td>\n",
              "      <td>2.6</td>\n",
              "      <td>[Spanish]</td>\n",
              "      <td>2020-08-21</td>\n",
              "      <td>[THRILLER]</td>\n",
              "    </tr>\n",
              "    <tr>\n",
              "      <th>2</th>\n",
              "      <td>The App</td>\n",
              "      <td>Science fiction/Drama</td>\n",
              "      <td>December 26, 2019</td>\n",
              "      <td>79</td>\n",
              "      <td>2.6</td>\n",
              "      <td>[Italian]</td>\n",
              "      <td>2019-12-26</td>\n",
              "      <td>[SCIENCE, FICTION, DRAMA]</td>\n",
              "    </tr>\n",
              "    <tr>\n",
              "      <th>3</th>\n",
              "      <td>The Open House</td>\n",
              "      <td>Horror thriller</td>\n",
              "      <td>January 19, 2018</td>\n",
              "      <td>94</td>\n",
              "      <td>3.2</td>\n",
              "      <td>[English]</td>\n",
              "      <td>2018-01-19</td>\n",
              "      <td>[HORROR, THRILLER]</td>\n",
              "    </tr>\n",
              "    <tr>\n",
              "      <th>4</th>\n",
              "      <td>Kaali Khuhi</td>\n",
              "      <td>Mystery</td>\n",
              "      <td>October 30, 2020</td>\n",
              "      <td>90</td>\n",
              "      <td>3.4</td>\n",
              "      <td>[Hindi]</td>\n",
              "      <td>2020-10-30</td>\n",
              "      <td>[MYSTERY]</td>\n",
              "    </tr>\n",
              "  </tbody>\n",
              "</table>\n",
              "</div>\n",
              "      <button class=\"colab-df-convert\" onclick=\"convertToInteractive('df-a07f4753-197d-4a5f-b3f9-566aa1afed22')\"\n",
              "              title=\"Convert this dataframe to an interactive table.\"\n",
              "              style=\"display:none;\">\n",
              "        \n",
              "  <svg xmlns=\"http://www.w3.org/2000/svg\" height=\"24px\"viewBox=\"0 0 24 24\"\n",
              "       width=\"24px\">\n",
              "    <path d=\"M0 0h24v24H0V0z\" fill=\"none\"/>\n",
              "    <path d=\"M18.56 5.44l.94 2.06.94-2.06 2.06-.94-2.06-.94-.94-2.06-.94 2.06-2.06.94zm-11 1L8.5 8.5l.94-2.06 2.06-.94-2.06-.94L8.5 2.5l-.94 2.06-2.06.94zm10 10l.94 2.06.94-2.06 2.06-.94-2.06-.94-.94-2.06-.94 2.06-2.06.94z\"/><path d=\"M17.41 7.96l-1.37-1.37c-.4-.4-.92-.59-1.43-.59-.52 0-1.04.2-1.43.59L10.3 9.45l-7.72 7.72c-.78.78-.78 2.05 0 2.83L4 21.41c.39.39.9.59 1.41.59.51 0 1.02-.2 1.41-.59l7.78-7.78 2.81-2.81c.8-.78.8-2.07 0-2.86zM5.41 20L4 18.59l7.72-7.72 1.47 1.35L5.41 20z\"/>\n",
              "  </svg>\n",
              "      </button>\n",
              "      \n",
              "  <style>\n",
              "    .colab-df-container {\n",
              "      display:flex;\n",
              "      flex-wrap:wrap;\n",
              "      gap: 12px;\n",
              "    }\n",
              "\n",
              "    .colab-df-convert {\n",
              "      background-color: #E8F0FE;\n",
              "      border: none;\n",
              "      border-radius: 50%;\n",
              "      cursor: pointer;\n",
              "      display: none;\n",
              "      fill: #1967D2;\n",
              "      height: 32px;\n",
              "      padding: 0 0 0 0;\n",
              "      width: 32px;\n",
              "    }\n",
              "\n",
              "    .colab-df-convert:hover {\n",
              "      background-color: #E2EBFA;\n",
              "      box-shadow: 0px 1px 2px rgba(60, 64, 67, 0.3), 0px 1px 3px 1px rgba(60, 64, 67, 0.15);\n",
              "      fill: #174EA6;\n",
              "    }\n",
              "\n",
              "    [theme=dark] .colab-df-convert {\n",
              "      background-color: #3B4455;\n",
              "      fill: #D2E3FC;\n",
              "    }\n",
              "\n",
              "    [theme=dark] .colab-df-convert:hover {\n",
              "      background-color: #434B5C;\n",
              "      box-shadow: 0px 1px 3px 1px rgba(0, 0, 0, 0.15);\n",
              "      filter: drop-shadow(0px 1px 2px rgba(0, 0, 0, 0.3));\n",
              "      fill: #FFFFFF;\n",
              "    }\n",
              "  </style>\n",
              "\n",
              "      <script>\n",
              "        const buttonEl =\n",
              "          document.querySelector('#df-a07f4753-197d-4a5f-b3f9-566aa1afed22 button.colab-df-convert');\n",
              "        buttonEl.style.display =\n",
              "          google.colab.kernel.accessAllowed ? 'block' : 'none';\n",
              "\n",
              "        async function convertToInteractive(key) {\n",
              "          const element = document.querySelector('#df-a07f4753-197d-4a5f-b3f9-566aa1afed22');\n",
              "          const dataTable =\n",
              "            await google.colab.kernel.invokeFunction('convertToInteractive',\n",
              "                                                     [key], {});\n",
              "          if (!dataTable) return;\n",
              "\n",
              "          const docLinkHtml = 'Like what you see? Visit the ' +\n",
              "            '<a target=\"_blank\" href=https://colab.research.google.com/notebooks/data_table.ipynb>data table notebook</a>'\n",
              "            + ' to learn more about interactive tables.';\n",
              "          element.innerHTML = '';\n",
              "          dataTable['output_type'] = 'display_data';\n",
              "          await google.colab.output.renderOutput(dataTable, element);\n",
              "          const docLink = document.createElement('div');\n",
              "          docLink.innerHTML = docLinkHtml;\n",
              "          element.appendChild(docLink);\n",
              "        }\n",
              "      </script>\n",
              "    </div>\n",
              "  </div>\n",
              "  "
            ]
          },
          "metadata": {},
          "execution_count": 75
        }
      ]
    },
    {
      "cell_type": "code",
      "source": [
        "fig = plt.figure(figsize = (15,8))\n",
        "plt.bar(lists.index.values, lists[0])\n",
        "plt.xticks(rotation=90)\n",
        "\n",
        "plt.title(\"Genre Numbers\")\n",
        "plt.xlabel(\"Genres\")\n",
        "plt.ylabel(\"TOTAL\")\n",
        "\n",
        "plt.grid()\n",
        "plt.show"
      ],
      "metadata": {
        "colab": {
          "base_uri": "https://localhost:8080/",
          "height": 603
        },
        "id": "KAL_WbOEaatP",
        "outputId": "37ae89d4-981f-4184-e406-b6565389909b"
      },
      "execution_count": 76,
      "outputs": [
        {
          "output_type": "execute_result",
          "data": {
            "text/plain": [
              "<function matplotlib.pyplot.show>"
            ]
          },
          "metadata": {},
          "execution_count": 76
        },
        {
          "output_type": "display_data",
          "data": {
            "text/plain": [
              "<Figure size 1080x576 with 1 Axes>"
            ],
            "image/png": "[encoded data removed]"
          },
          "metadata": {
            "needs_background": "light"
          }
        }
      ]
    },
    {
      "cell_type": "markdown",
      "source": [
        "**6. Veri setinde bulunan filmlerde en çok kullanılan 3 dili bulunuz.**\n",
        "---\n",
        "---\n",
        "\n"
      ],
      "metadata": {
        "id": "RNGNTJi4_uoB"
      }
    },
    {
      "cell_type": "code",
      "source": [
        "best_lang = data[\"Language\"].value_counts()\n",
        "top3_lang= best_lang[:3]\n",
        "print(\"The 3 most used languages in the movies in the dataset:\")\n",
        "print(top3_lang)"
      ],
      "metadata": {
        "colab": {
          "base_uri": "https://localhost:8080/"
        },
        "id": "s6YjEGlO_4RQ",
        "outputId": "6ed0856a-1400-4f30-fdfa-63a4f5514352"
      },
      "execution_count": 77,
      "outputs": [
        {
          "output_type": "stream",
          "name": "stdout",
          "text": [
            "The 3 most used languages in the movies in the dataset:\n",
            "[English]    401\n",
            "[Hindi]       33\n",
            "[Spanish]     31\n",
            "Name: Language, dtype: int64\n"
          ]
        }
      ]
    },
    {
      "cell_type": "markdown",
      "source": [
        "---\n",
        "Veri setinde bulunan filmlerde en çok kullanılan 3 dil sırasıyla İngilizce, Hintçe ve İspanyolca'dır.\n",
        "\n",
        "---"
      ],
      "metadata": {
        "id": "KeqO_UQPFbJW"
      }
    },
    {
      "cell_type": "markdown",
      "source": [
        "**7. IMDB puanı en yüksek olan ilk 10 film hangileridir?**\n",
        "---\n",
        "---"
      ],
      "metadata": {
        "id": "0dW1ombECFGt"
      }
    },
    {
      "cell_type": "code",
      "source": [
        "data_imdb = data.sort_values(\"IMDB Score\", ascending = False)\n",
        "data_top10 = data_imdb.reset_index().loc[0:10]\n",
        "data_top10[\"Title\"]"
      ],
      "metadata": {
        "colab": {
          "base_uri": "https://localhost:8080/"
        },
        "id": "jMCDhmueCBgk",
        "outputId": "640697ac-d938-48d0-aad4-eda3371ff89f"
      },
      "execution_count": 78,
      "outputs": [
        {
          "output_type": "execute_result",
          "data": {
            "text/plain": [
              "0        David Attenborough: A Life on Our Planet\n",
              "1       Emicida: AmarElo - It's All For Yesterday\n",
              "2                         Springsteen on Broadway\n",
              "3     Winter on Fire: Ukraine's Fight for Freedom\n",
              "4           Taylor Swift: Reputation Stadium Tour\n",
              "5      Ben Platt: Live from Radio City Music Hall\n",
              "6                          Dancing with the Birds\n",
              "7                         Cuba and the Cameraman \n",
              "8                                           Klaus\n",
              "9                                            13th\n",
              "10              Disclosure: Trans Lives on Screen\n",
              "Name: Title, dtype: object"
            ]
          },
          "metadata": {},
          "execution_count": 78
        }
      ]
    },
    {
      "cell_type": "markdown",
      "source": [
        "**8. IMDB puanı ile 'Runtime' arasında nasıl bir korelasyon vardır? İnceleyip görselleştiriniz.**\n",
        "---\n",
        "---"
      ],
      "metadata": {
        "id": "mBejy7UplRdS"
      }
    },
    {
      "cell_type": "code",
      "source": [
        "sns.regplot(data=data,x='IMDB Score',y='Runtime');\n",
        "plt.title('Korelasyon')\n",
        "plt.show()"
      ],
      "metadata": {
        "colab": {
          "base_uri": "https://localhost:8080/",
          "height": 295
        },
        "id": "JF0kG8TmpYp1",
        "outputId": "d4565f58-9e2e-4b09-8500-6db547f3630e"
      },
      "execution_count": 79,
      "outputs": [
        {
          "output_type": "display_data",
          "data": {
            "text/plain": [
              "<Figure size 432x288 with 1 Axes>"
            ],
            "image/png": "[encoded data removed]"
          },
          "metadata": {
            "needs_background": "light"
          }
        }
      ]
    },
    {
      "cell_type": "markdown",
      "source": [
        "---\n",
        "Korelasyon çizgisinin x eksenine hemen hemen paralel olması bize bu grafikte, \"IMDB Score\" - \"Runtime\" verileri arasında dikkate değer bir ilişki olmadığı  göstermektedir. \n",
        "\n",
        "---"
      ],
      "metadata": {
        "id": "1YlRHsuhK1wD"
      }
    },
    {
      "cell_type": "markdown",
      "source": [
        "**9. IMDB Puanı en yüksek olan ilk 10 'Genre' hangileridir? Görselleştiriniz.**\n",
        "---\n",
        "---"
      ],
      "metadata": {
        "id": "SyjP1E9b-6I3"
      }
    },
    {
      "cell_type": "markdown",
      "source": [
        "---\n",
        "Bazı türlerde çok az sayıda film bulunduğu için türün ortalama IMDB puanı gerçekçi bir veri olmayacaktır. Bu nedenle en az 5 filme sahip olan türler incelenmiştir.\n",
        "\n",
        "---"
      ],
      "metadata": {
        "id": "zHDNl65b_2jV"
      }
    },
    {
      "cell_type": "code",
      "source": [
        "genres1 = []\n",
        "data_genre_values = data2[\"Genre\"].value_counts()\n",
        "data_gv_index = data_genre_values.index\n",
        "for i in list(data_gv_index):\n",
        "  if data_genre_values[i] >= 5:\n",
        "    genres1.append(i)\n",
        "genres1\n",
        "\n",
        "genres2 = []\n",
        "\n",
        "for  i in range(0, len(data2)):\n",
        "  for genre in list(genres1):\n",
        "    if data2[\"Genre\"][i] == genre:\n",
        "      genres2.append(i)\n",
        "\n",
        "selected_genres = data.loc[genres2]\n",
        "print(selected_genres)"
      ],
      "metadata": {
        "id": "yp1UTcHXuweZ",
        "colab": {
          "base_uri": "https://localhost:8080/"
        },
        "outputId": "3fa679a5-eaf2-41b6-8a25-2c76343b3af1"
      },
      "execution_count": 80,
      "outputs": [
        {
          "output_type": "stream",
          "name": "stdout",
          "text": [
            "                                           Title         Genre  \\\n",
            "0                                Enter the Anime   Documentary   \n",
            "1                                    Dark Forces      Thriller   \n",
            "5                                          Drive        Action   \n",
            "6                              Leyla Everlasting        Comedy   \n",
            "9                             Sardar Ka Grandson        Comedy   \n",
            "..                                           ...           ...   \n",
            "578   Ben Platt: Live from Radio City Music Hall  Concert Film   \n",
            "579        Taylor Swift: Reputation Stadium Tour  Concert Film   \n",
            "580  Winter on Fire: Ukraine's Fight for Freedom   Documentary   \n",
            "582    Emicida: AmarElo - It's All For Yesterday   Documentary   \n",
            "583     David Attenborough: A Life on Our Planet   Documentary   \n",
            "\n",
            "              Premiere  Runtime  IMDB Score                      Language  \\\n",
            "0       August 5, 2019       58         2.5           [English, Japanese]   \n",
            "1      August 21, 2020       81         2.6                     [Spanish]   \n",
            "5     November 1, 2019      147         3.5                       [Hindi]   \n",
            "6     December 4, 2020      112         3.7                     [Turkish]   \n",
            "9         May 18, 2021      139         4.1                       [Hindi]   \n",
            "..                 ...      ...         ...                           ...   \n",
            "578       May 20, 2020       85         8.4                     [English]   \n",
            "579  December 31, 2018      125         8.4                     [English]   \n",
            "580    October 9, 2015       91         8.4  [English, Ukranian, Russian]   \n",
            "582   December 8, 2020       89         8.6                  [Portuguese]   \n",
            "583    October 4, 2020       83         9.0                     [English]   \n",
            "\n",
            "    Premiere_numeric           Genre2  \n",
            "0         2019-08-05    [DOCUMENTARY]  \n",
            "1         2020-08-21       [THRILLER]  \n",
            "5         2019-11-01         [ACTION]  \n",
            "6         2020-12-04         [COMEDY]  \n",
            "9         2021-05-18         [COMEDY]  \n",
            "..               ...              ...  \n",
            "578       2020-05-20  [CONCERT, FILM]  \n",
            "579       2018-12-31  [CONCERT, FILM]  \n",
            "580       2015-10-09    [DOCUMENTARY]  \n",
            "582       2020-12-08    [DOCUMENTARY]  \n",
            "583       2020-10-04    [DOCUMENTARY]  \n",
            "\n",
            "[440 rows x 8 columns]\n"
          ]
        }
      ]
    },
    {
      "cell_type": "code",
      "source": [
        "films_genre=selected_genres.groupby(['Genre']).median().sort_values(by=['IMDB Score'],ascending=False).head(10)\n",
        "print(films_genre)"
      ],
      "metadata": {
        "colab": {
          "base_uri": "https://localhost:8080/"
        },
        "id": "08F2j2nu9K_U",
        "outputId": "e8ddcd43-1b10-4aad-854a-7f0af84246b5"
      },
      "execution_count": 81,
      "outputs": [
        {
          "output_type": "stream",
          "name": "stdout",
          "text": [
            "                       Runtime  IMDB Score\n",
            "Genre                                     \n",
            "Concert Film              93.5        7.60\n",
            "Animation                 47.0        7.10\n",
            "Aftershow / Interview     25.5        7.00\n",
            "Documentary               86.0        7.00\n",
            "Crime drama              106.0        6.90\n",
            "Romance                  104.0        6.55\n",
            "Drama                    104.0        6.40\n",
            "Comedy-drama             101.5        6.25\n",
            "Biopic                   106.0        6.20\n",
            "Romantic comedy           99.0        5.80\n"
          ]
        }
      ]
    },
    {
      "cell_type": "code",
      "source": [
        "fig = plt.figure(figsize = (12,6))\n",
        "plt.bar(films_genre.index, films_genre[\"IMDB Score\"])\n",
        "plt.xticks(rotation=90)\n",
        "\n",
        "plt.title(\"Genres vs IMDB Scores\")\n",
        "plt.xlabel(\"Genres\")\n",
        "plt.ylabel(\"IMDB Score\")\n",
        "\n",
        "plt.grid()\n",
        "plt.show"
      ],
      "metadata": {
        "colab": {
          "base_uri": "https://localhost:8080/",
          "height": 517
        },
        "id": "iIw78a7U7C3N",
        "outputId": "50086147-94f1-4ad1-c6e4-24ecabdccfae"
      },
      "execution_count": 82,
      "outputs": [
        {
          "output_type": "execute_result",
          "data": {
            "text/plain": [
              "<function matplotlib.pyplot.show>"
            ]
          },
          "metadata": {},
          "execution_count": 82
        },
        {
          "output_type": "display_data",
          "data": {
            "text/plain": [
              "<Figure size 864x432 with 1 Axes>"
            ],
            "image/png": "[encoded data removed]"
          },
          "metadata": {
            "needs_background": "light"
          }
        }
      ]
    },
    {
      "cell_type": "markdown",
      "source": [
        "**10. 'Runtime' değeri en yüksek olan ilk 10 film hangileridir? Görselleştiriniz.**\n",
        "---\n",
        "---"
      ],
      "metadata": {
        "id": "955b0cQ2xhF-"
      }
    },
    {
      "cell_type": "code",
      "source": [
        "data_rt = data.sort_values(\"Runtime\", ascending = False)\n",
        "data_top10 = data_rt.reset_index().loc[0:9]\n",
        "data_top10[\"Title\"]"
      ],
      "metadata": {
        "id": "-49FNnITxgfE",
        "colab": {
          "base_uri": "https://localhost:8080/"
        },
        "outputId": "4eb896ea-d007-4aa2-888b-d0bcc0546084"
      },
      "execution_count": 83,
      "outputs": [
        {
          "output_type": "execute_result",
          "data": {
            "text/plain": [
              "0                       The Irishman\n",
              "1                        Da 5 Bloods\n",
              "2            Springsteen on Broadway\n",
              "3                           Citation\n",
              "4                 The Forest of Love\n",
              "5                     Raat Akeli Hai\n",
              "6    The Last Days of American Crime\n",
              "7                               Ludo\n",
              "8                   Army of the Dead\n",
              "9                              Drive\n",
              "Name: Title, dtype: object"
            ]
          },
          "metadata": {},
          "execution_count": 83
        }
      ]
    },
    {
      "cell_type": "code",
      "source": [
        "fig = plt.figure(figsize = (10,6))\n",
        "\n",
        "plt.bar(data_top10[\"Title\"], data_top10[\"Runtime\"])\n",
        "plt.xticks(rotation=90)\n",
        "plt.title(\"Movies vs Runtime\")\n",
        "plt.xlabel(\"Movie Name\")\n",
        "plt.ylabel(\"Runtime\")\n",
        "plt.grid()\n",
        "plt.show"
      ],
      "metadata": {
        "colab": {
          "base_uri": "https://localhost:8080/",
          "height": 578
        },
        "id": "X8TyuK0OwvvA",
        "outputId": "7f90d4cc-a31e-43aa-e38f-17d71998f7e2"
      },
      "execution_count": 84,
      "outputs": [
        {
          "output_type": "execute_result",
          "data": {
            "text/plain": [
              "<function matplotlib.pyplot.show>"
            ]
          },
          "metadata": {},
          "execution_count": 84
        },
        {
          "output_type": "display_data",
          "data": {
            "text/plain": [
              "<Figure size 720x432 with 1 Axes>"
            ],
            "image/png": "[encoded data removed]"
          },
          "metadata": {
            "needs_background": "light"
          }
        }
      ]
    },
    {
      "cell_type": "markdown",
      "source": [
        "**11. Hangi yılda en fazla film yayımlanmıştır? Görselleştiriniz.**\n",
        "---\n",
        "---"
      ],
      "metadata": {
        "id": "ZyWXeJlq5ujt"
      }
    },
    {
      "cell_type": "code",
      "source": [
        "premiere = list(data[\"Premiere\"])\n",
        "\n",
        "premiere5 = []\n",
        "for date in list(premiere2):\n",
        "  date2 = datetime.strptime(date, \"%B %d, %Y\")\n",
        "  date4 = date2.strftime(\"%Y\")\n",
        "  date5= int(date4)\n",
        "  premiere5.append(date5)\n",
        "\n",
        "data[\"Year\"] = premiere5\n"
      ],
      "metadata": {
        "id": "qcyVWRhq51sZ"
      },
      "execution_count": 85,
      "outputs": []
    },
    {
      "cell_type": "code",
      "source": [
        "data_year = data[\"Year\"].value_counts().reset_index()\n",
        "data_year[\"year\"] = data_year[\"index\"]\n",
        "data_year[\"number of movies\"] = data_year[\"Year\"]\n",
        "data_year.drop(\"index\", inplace=True, axis=1)\n",
        "data_year.drop(\"Year\", inplace=True, axis=1)\n",
        "\n",
        "print(\"En fazla film yayınlanan yıl:\", data_year[\"year\"].loc[0])"
      ],
      "metadata": {
        "colab": {
          "base_uri": "https://localhost:8080/"
        },
        "id": "afeIJAtJ9bZ1",
        "outputId": "04f56258-a213-4203-bf0e-10a95025ca85"
      },
      "execution_count": 86,
      "outputs": [
        {
          "output_type": "stream",
          "name": "stdout",
          "text": [
            "En fazla film yayınlanan yıl: 2020\n"
          ]
        }
      ]
    },
    {
      "cell_type": "code",
      "source": [
        "fig = plt.figure(figsize = (10,6))\n",
        "explode = (0.1, 0.1, 0.1, 0.1, 0.1, 0.1, 0.1, 0.1)\n",
        "\n",
        "plt.pie(data_year[\"number of movies\"], explode = explode , labels=data_year[\"year\"], shadow = True, autopct='%1.1f%%')\n",
        "\n",
        "plt.title(\"Number of Movies by Year\")\n",
        "centre_circle = plt.Circle((0,0),0.70,fc='white')\n",
        "fig = plt.gcf()\n",
        "fig.gca().add_artist(centre_circle)\n",
        "\n",
        "plt.show"
      ],
      "metadata": {
        "colab": {
          "base_uri": "https://localhost:8080/",
          "height": 390
        },
        "id": "SwFoODsDhtrw",
        "outputId": "119c6580-97d4-409c-9b3d-10146a7842c4"
      },
      "execution_count": 87,
      "outputs": [
        {
          "output_type": "execute_result",
          "data": {
            "text/plain": [
              "<function matplotlib.pyplot.show>"
            ]
          },
          "metadata": {},
          "execution_count": 87
        },
        {
          "output_type": "display_data",
          "data": {
            "text/plain": [
              "<Figure size 720x432 with 1 Axes>"
            ],
            "image/png": "[encoded data removed]"
          },
          "metadata": {}
        }
      ]
    },
    {
      "cell_type": "markdown",
      "source": [
        "**13. Hangi yılın toplam \"runtime\" süresi en fazladır?**\n",
        "---\n",
        "---"
      ],
      "metadata": {
        "id": "LRGJhXmM3J_q"
      }
    },
    {
      "cell_type": "code",
      "source": [
        "data.head()"
      ],
      "metadata": {
        "colab": {
          "base_uri": "https://localhost:8080/",
          "height": 206
        },
        "id": "DgMpBj6PNq52",
        "outputId": "447f6bc5-5ff6-4a3d-ca5d-d87fc914b47c"
      },
      "execution_count": 88,
      "outputs": [
        {
          "output_type": "execute_result",
          "data": {
            "text/plain": [
              "             Title                  Genre           Premiere  Runtime  \\\n",
              "0  Enter the Anime            Documentary     August 5, 2019       58   \n",
              "1      Dark Forces               Thriller    August 21, 2020       81   \n",
              "2          The App  Science fiction/Drama  December 26, 2019       79   \n",
              "3   The Open House        Horror thriller   January 19, 2018       94   \n",
              "4      Kaali Khuhi                Mystery   October 30, 2020       90   \n",
              "\n",
              "   IMDB Score             Language Premiere_numeric  \\\n",
              "0         2.5  [English, Japanese]       2019-08-05   \n",
              "1         2.6            [Spanish]       2020-08-21   \n",
              "2         2.6            [Italian]       2019-12-26   \n",
              "3         3.2            [English]       2018-01-19   \n",
              "4         3.4              [Hindi]       2020-10-30   \n",
              "\n",
              "                      Genre2  Year  \n",
              "0              [DOCUMENTARY]  2019  \n",
              "1                 [THRILLER]  2020  \n",
              "2  [SCIENCE, FICTION, DRAMA]  2019  \n",
              "3         [HORROR, THRILLER]  2018  \n",
              "4                  [MYSTERY]  2020  "
            ],
            "text/html": [
              "\n",
              "  <div id=\"df-a2fce07e-b7be-4845-bbee-3ae89df14b05\">\n",
              "    <div class=\"colab-df-container\">\n",
              "      <div>\n",
              "<style scoped>\n",
              "    .dataframe tbody tr th:only-of-type {\n",
              "        vertical-align: middle;\n",
              "    }\n",
              "\n",
              "    .dataframe tbody tr th {\n",
              "        vertical-align: top;\n",
              "    }\n",
              "\n",
              "    .dataframe thead th {\n",
              "        text-align: right;\n",
              "    }\n",
              "</style>\n",
              "<table border=\"1\" class=\"dataframe\">\n",
              "  <thead>\n",
              "    <tr style=\"text-align: right;\">\n",
              "      <th></th>\n",
              "      <th>Title</th>\n",
              "      <th>Genre</th>\n",
              "      <th>Premiere</th>\n",
              "      <th>Runtime</th>\n",
              "      <th>IMDB Score</th>\n",
              "      <th>Language</th>\n",
              "      <th>Premiere_numeric</th>\n",
              "      <th>Genre2</th>\n",
              "      <th>Year</th>\n",
              "    </tr>\n",
              "  </thead>\n",
              "  <tbody>\n",
              "    <tr>\n",
              "      <th>0</th>\n",
              "      <td>Enter the Anime</td>\n",
              "      <td>Documentary</td>\n",
              "      <td>August 5, 2019</td>\n",
              "      <td>58</td>\n",
              "      <td>2.5</td>\n",
              "      <td>[English, Japanese]</td>\n",
              "      <td>2019-08-05</td>\n",
              "      <td>[DOCUMENTARY]</td>\n",
              "      <td>2019</td>\n",
              "    </tr>\n",
              "    <tr>\n",
              "      <th>1</th>\n",
              "      <td>Dark Forces</td>\n",
              "      <td>Thriller</td>\n",
              "      <td>August 21, 2020</td>\n",
              "      <td>81</td>\n",
              "      <td>2.6</td>\n",
              "      <td>[Spanish]</td>\n",
              "      <td>2020-08-21</td>\n",
              "      <td>[THRILLER]</td>\n",
              "      <td>2020</td>\n",
              "    </tr>\n",
              "    <tr>\n",
              "      <th>2</th>\n",
              "      <td>The App</td>\n",
              "      <td>Science fiction/Drama</td>\n",
              "      <td>December 26, 2019</td>\n",
              "      <td>79</td>\n",
              "      <td>2.6</td>\n",
              "      <td>[Italian]</td>\n",
              "      <td>2019-12-26</td>\n",
              "      <td>[SCIENCE, FICTION, DRAMA]</td>\n",
              "      <td>2019</td>\n",
              "    </tr>\n",
              "    <tr>\n",
              "      <th>3</th>\n",
              "      <td>The Open House</td>\n",
              "      <td>Horror thriller</td>\n",
              "      <td>January 19, 2018</td>\n",
              "      <td>94</td>\n",
              "      <td>3.2</td>\n",
              "      <td>[English]</td>\n",
              "      <td>2018-01-19</td>\n",
              "      <td>[HORROR, THRILLER]</td>\n",
              "      <td>2018</td>\n",
              "    </tr>\n",
              "    <tr>\n",
              "      <th>4</th>\n",
              "      <td>Kaali Khuhi</td>\n",
              "      <td>Mystery</td>\n",
              "      <td>October 30, 2020</td>\n",
              "      <td>90</td>\n",
              "      <td>3.4</td>\n",
              "      <td>[Hindi]</td>\n",
              "      <td>2020-10-30</td>\n",
              "      <td>[MYSTERY]</td>\n",
              "      <td>2020</td>\n",
              "    </tr>\n",
              "  </tbody>\n",
              "</table>\n",
              "</div>\n",
              "      <button class=\"colab-df-convert\" onclick=\"convertToInteractive('df-a2fce07e-b7be-4845-bbee-3ae89df14b05')\"\n",
              "              title=\"Convert this dataframe to an interactive table.\"\n",
              "              style=\"display:none;\">\n",
              "        \n",
              "  <svg xmlns=\"http://www.w3.org/2000/svg\" height=\"24px\"viewBox=\"0 0 24 24\"\n",
              "       width=\"24px\">\n",
              "    <path d=\"M0 0h24v24H0V0z\" fill=\"none\"/>\n",
              "    <path d=\"M18.56 5.44l.94 2.06.94-2.06 2.06-.94-2.06-.94-.94-2.06-.94 2.06-2.06.94zm-11 1L8.5 8.5l.94-2.06 2.06-.94-2.06-.94L8.5 2.5l-.94 2.06-2.06.94zm10 10l.94 2.06.94-2.06 2.06-.94-2.06-.94-.94-2.06-.94 2.06-2.06.94z\"/><path d=\"M17.41 7.96l-1.37-1.37c-.4-.4-.92-.59-1.43-.59-.52 0-1.04.2-1.43.59L10.3 9.45l-7.72 7.72c-.78.78-.78 2.05 0 2.83L4 21.41c.39.39.9.59 1.41.59.51 0 1.02-.2 1.41-.59l7.78-7.78 2.81-2.81c.8-.78.8-2.07 0-2.86zM5.41 20L4 18.59l7.72-7.72 1.47 1.35L5.41 20z\"/>\n",
              "  </svg>\n",
              "      </button>\n",
              "      \n",
              "  <style>\n",
              "    .colab-df-container {\n",
              "      display:flex;\n",
              "      flex-wrap:wrap;\n",
              "      gap: 12px;\n",
              "    }\n",
              "\n",
              "    .colab-df-convert {\n",
              "      background-color: #E8F0FE;\n",
              "      border: none;\n",
              "      border-radius: 50%;\n",
              "      cursor: pointer;\n",
              "      display: none;\n",
              "      fill: #1967D2;\n",
              "      height: 32px;\n",
              "      padding: 0 0 0 0;\n",
              "      width: 32px;\n",
              "    }\n",
              "\n",
              "    .colab-df-convert:hover {\n",
              "      background-color: #E2EBFA;\n",
              "      box-shadow: 0px 1px 2px rgba(60, 64, 67, 0.3), 0px 1px 3px 1px rgba(60, 64, 67, 0.15);\n",
              "      fill: #174EA6;\n",
              "    }\n",
              "\n",
              "    [theme=dark] .colab-df-convert {\n",
              "      background-color: #3B4455;\n",
              "      fill: #D2E3FC;\n",
              "    }\n",
              "\n",
              "    [theme=dark] .colab-df-convert:hover {\n",
              "      background-color: #434B5C;\n",
              "      box-shadow: 0px 1px 3px 1px rgba(0, 0, 0, 0.15);\n",
              "      filter: drop-shadow(0px 1px 2px rgba(0, 0, 0, 0.3));\n",
              "      fill: #FFFFFF;\n",
              "    }\n",
              "  </style>\n",
              "\n",
              "      <script>\n",
              "        const buttonEl =\n",
              "          document.querySelector('#df-a2fce07e-b7be-4845-bbee-3ae89df14b05 button.colab-df-convert');\n",
              "        buttonEl.style.display =\n",
              "          google.colab.kernel.accessAllowed ? 'block' : 'none';\n",
              "\n",
              "        async function convertToInteractive(key) {\n",
              "          const element = document.querySelector('#df-a2fce07e-b7be-4845-bbee-3ae89df14b05');\n",
              "          const dataTable =\n",
              "            await google.colab.kernel.invokeFunction('convertToInteractive',\n",
              "                                                     [key], {});\n",
              "          if (!dataTable) return;\n",
              "\n",
              "          const docLinkHtml = 'Like what you see? Visit the ' +\n",
              "            '<a target=\"_blank\" href=https://colab.research.google.com/notebooks/data_table.ipynb>data table notebook</a>'\n",
              "            + ' to learn more about interactive tables.';\n",
              "          element.innerHTML = '';\n",
              "          dataTable['output_type'] = 'display_data';\n",
              "          await google.colab.output.renderOutput(dataTable, element);\n",
              "          const docLink = document.createElement('div');\n",
              "          docLink.innerHTML = docLinkHtml;\n",
              "          element.appendChild(docLink);\n",
              "        }\n",
              "      </script>\n",
              "    </div>\n",
              "  </div>\n",
              "  "
            ]
          },
          "metadata": {},
          "execution_count": 88
        }
      ]
    },
    {
      "cell_type": "code",
      "source": [
        "data_year2= data_year[\"year\"].sort_values().reset_index().drop(\"index\", inplace=False, axis=1)\n",
        "print(data_year2)"
      ],
      "metadata": {
        "colab": {
          "base_uri": "https://localhost:8080/"
        },
        "id": "67Wu6yhl3PqK",
        "outputId": "11981b8b-22a8-479c-d849-8bec2999e3e3"
      },
      "execution_count": 89,
      "outputs": [
        {
          "output_type": "stream",
          "name": "stdout",
          "text": [
            "   year\n",
            "0  2014\n",
            "1  2015\n",
            "2  2016\n",
            "3  2017\n",
            "4  2018\n",
            "5  2019\n",
            "6  2020\n",
            "7  2021\n"
          ]
        }
      ]
    },
    {
      "cell_type": "code",
      "source": [
        "print(data_year2[\"year\"])"
      ],
      "metadata": {
        "colab": {
          "base_uri": "https://localhost:8080/"
        },
        "id": "WhYk5tR9nHg7",
        "outputId": "c6e30565-589d-439a-894f-db853d7151a4"
      },
      "execution_count": 90,
      "outputs": [
        {
          "output_type": "stream",
          "name": "stdout",
          "text": [
            "0    2014\n",
            "1    2015\n",
            "2    2016\n",
            "3    2017\n",
            "4    2018\n",
            "5    2019\n",
            "6    2020\n",
            "7    2021\n",
            "Name: year, dtype: int64\n"
          ]
        }
      ]
    },
    {
      "cell_type": "code",
      "source": [
        "list_rt= []\n",
        "\n",
        "\n",
        "for year in list(data_year2[\"year\"]):\n",
        "  rt=0\n",
        "  for i in range(0, len(data)):\n",
        "    if year == data[\"Year\"][i]:\n",
        "      rt = data[\"Runtime\"][i] + rt\n",
        "  list_rt.append(rt)\n",
        "  \n",
        "max_ind = list_rt.index(max(list_rt))\n",
        "\n",
        "print(\"Toplam runtime süresi en uzun olan yıl: \",data_year2[\"year\"][max_ind])"
      ],
      "metadata": {
        "colab": {
          "base_uri": "https://localhost:8080/"
        },
        "id": "l2Hz8WV-KNnq",
        "outputId": "a56dc9a6-b842-4b90-b964-d2c99328cf14"
      },
      "execution_count": 91,
      "outputs": [
        {
          "output_type": "stream",
          "name": "stdout",
          "text": [
            "Toplam runtime süresi en uzun olan yıl:  2020\n"
          ]
        }
      ]
    },
    {
      "cell_type": "markdown",
      "source": [
        "---\n",
        "Toplam runtime süresi en uzun olan yıl:  2020\n",
        "\n",
        "---"
      ],
      "metadata": {
        "id": "HG8-xeAZMIyh"
      }
    },
    {
      "cell_type": "markdown",
      "source": [
        "**14. Her bir dilin en fazla kullanıldığı \"Genre\" nedir?**\n",
        "---\n",
        "---"
      ],
      "metadata": {
        "id": "q4t63gm_1c0-"
      }
    },
    {
      "cell_type": "code",
      "source": [
        "data2.head()"
      ],
      "metadata": {
        "colab": {
          "base_uri": "https://localhost:8080/",
          "height": 206
        },
        "id": "a_0nuCKP5_XJ",
        "outputId": "20d19551-9e2c-490a-bc20-a6d2ea210462"
      },
      "execution_count": 92,
      "outputs": [
        {
          "output_type": "execute_result",
          "data": {
            "text/plain": [
              "             Title                  Genre           Premiere  Runtime  \\\n",
              "0  Enter the Anime            Documentary     August 5, 2019       58   \n",
              "1      Dark Forces               Thriller    August 21, 2020       81   \n",
              "2          The App  Science fiction/Drama  December 26, 2019       79   \n",
              "3   The Open House        Horror thriller   January 19, 2018       94   \n",
              "4      Kaali Khuhi                Mystery   October 30, 2020       90   \n",
              "\n",
              "   IMDB Score          Language  \n",
              "0         2.5  English/Japanese  \n",
              "1         2.6           Spanish  \n",
              "2         2.6           Italian  \n",
              "3         3.2           English  \n",
              "4         3.4             Hindi  "
            ],
            "text/html": [
              "\n",
              "  <div id=\"df-851d93c1-df31-44fb-a45b-e34c2e146736\">\n",
              "    <div class=\"colab-df-container\">\n",
              "      <div>\n",
              "<style scoped>\n",
              "    .dataframe tbody tr th:only-of-type {\n",
              "        vertical-align: middle;\n",
              "    }\n",
              "\n",
              "    .dataframe tbody tr th {\n",
              "        vertical-align: top;\n",
              "    }\n",
              "\n",
              "    .dataframe thead th {\n",
              "        text-align: right;\n",
              "    }\n",
              "</style>\n",
              "<table border=\"1\" class=\"dataframe\">\n",
              "  <thead>\n",
              "    <tr style=\"text-align: right;\">\n",
              "      <th></th>\n",
              "      <th>Title</th>\n",
              "      <th>Genre</th>\n",
              "      <th>Premiere</th>\n",
              "      <th>Runtime</th>\n",
              "      <th>IMDB Score</th>\n",
              "      <th>Language</th>\n",
              "    </tr>\n",
              "  </thead>\n",
              "  <tbody>\n",
              "    <tr>\n",
              "      <th>0</th>\n",
              "      <td>Enter the Anime</td>\n",
              "      <td>Documentary</td>\n",
              "      <td>August 5, 2019</td>\n",
              "      <td>58</td>\n",
              "      <td>2.5</td>\n",
              "      <td>English/Japanese</td>\n",
              "    </tr>\n",
              "    <tr>\n",
              "      <th>1</th>\n",
              "      <td>Dark Forces</td>\n",
              "      <td>Thriller</td>\n",
              "      <td>August 21, 2020</td>\n",
              "      <td>81</td>\n",
              "      <td>2.6</td>\n",
              "      <td>Spanish</td>\n",
              "    </tr>\n",
              "    <tr>\n",
              "      <th>2</th>\n",
              "      <td>The App</td>\n",
              "      <td>Science fiction/Drama</td>\n",
              "      <td>December 26, 2019</td>\n",
              "      <td>79</td>\n",
              "      <td>2.6</td>\n",
              "      <td>Italian</td>\n",
              "    </tr>\n",
              "    <tr>\n",
              "      <th>3</th>\n",
              "      <td>The Open House</td>\n",
              "      <td>Horror thriller</td>\n",
              "      <td>January 19, 2018</td>\n",
              "      <td>94</td>\n",
              "      <td>3.2</td>\n",
              "      <td>English</td>\n",
              "    </tr>\n",
              "    <tr>\n",
              "      <th>4</th>\n",
              "      <td>Kaali Khuhi</td>\n",
              "      <td>Mystery</td>\n",
              "      <td>October 30, 2020</td>\n",
              "      <td>90</td>\n",
              "      <td>3.4</td>\n",
              "      <td>Hindi</td>\n",
              "    </tr>\n",
              "  </tbody>\n",
              "</table>\n",
              "</div>\n",
              "      <button class=\"colab-df-convert\" onclick=\"convertToInteractive('df-851d93c1-df31-44fb-a45b-e34c2e146736')\"\n",
              "              title=\"Convert this dataframe to an interactive table.\"\n",
              "              style=\"display:none;\">\n",
              "        \n",
              "  <svg xmlns=\"http://www.w3.org/2000/svg\" height=\"24px\"viewBox=\"0 0 24 24\"\n",
              "       width=\"24px\">\n",
              "    <path d=\"M0 0h24v24H0V0z\" fill=\"none\"/>\n",
              "    <path d=\"M18.56 5.44l.94 2.06.94-2.06 2.06-.94-2.06-.94-.94-2.06-.94 2.06-2.06.94zm-11 1L8.5 8.5l.94-2.06 2.06-.94-2.06-.94L8.5 2.5l-.94 2.06-2.06.94zm10 10l.94 2.06.94-2.06 2.06-.94-2.06-.94-.94-2.06-.94 2.06-2.06.94z\"/><path d=\"M17.41 7.96l-1.37-1.37c-.4-.4-.92-.59-1.43-.59-.52 0-1.04.2-1.43.59L10.3 9.45l-7.72 7.72c-.78.78-.78 2.05 0 2.83L4 21.41c.39.39.9.59 1.41.59.51 0 1.02-.2 1.41-.59l7.78-7.78 2.81-2.81c.8-.78.8-2.07 0-2.86zM5.41 20L4 18.59l7.72-7.72 1.47 1.35L5.41 20z\"/>\n",
              "  </svg>\n",
              "      </button>\n",
              "      \n",
              "  <style>\n",
              "    .colab-df-container {\n",
              "      display:flex;\n",
              "      flex-wrap:wrap;\n",
              "      gap: 12px;\n",
              "    }\n",
              "\n",
              "    .colab-df-convert {\n",
              "      background-color: #E8F0FE;\n",
              "      border: none;\n",
              "      border-radius: 50%;\n",
              "      cursor: pointer;\n",
              "      display: none;\n",
              "      fill: #1967D2;\n",
              "      height: 32px;\n",
              "      padding: 0 0 0 0;\n",
              "      width: 32px;\n",
              "    }\n",
              "\n",
              "    .colab-df-convert:hover {\n",
              "      background-color: #E2EBFA;\n",
              "      box-shadow: 0px 1px 2px rgba(60, 64, 67, 0.3), 0px 1px 3px 1px rgba(60, 64, 67, 0.15);\n",
              "      fill: #174EA6;\n",
              "    }\n",
              "\n",
              "    [theme=dark] .colab-df-convert {\n",
              "      background-color: #3B4455;\n",
              "      fill: #D2E3FC;\n",
              "    }\n",
              "\n",
              "    [theme=dark] .colab-df-convert:hover {\n",
              "      background-color: #434B5C;\n",
              "      box-shadow: 0px 1px 3px 1px rgba(0, 0, 0, 0.15);\n",
              "      filter: drop-shadow(0px 1px 2px rgba(0, 0, 0, 0.3));\n",
              "      fill: #FFFFFF;\n",
              "    }\n",
              "  </style>\n",
              "\n",
              "      <script>\n",
              "        const buttonEl =\n",
              "          document.querySelector('#df-851d93c1-df31-44fb-a45b-e34c2e146736 button.colab-df-convert');\n",
              "        buttonEl.style.display =\n",
              "          google.colab.kernel.accessAllowed ? 'block' : 'none';\n",
              "\n",
              "        async function convertToInteractive(key) {\n",
              "          const element = document.querySelector('#df-851d93c1-df31-44fb-a45b-e34c2e146736');\n",
              "          const dataTable =\n",
              "            await google.colab.kernel.invokeFunction('convertToInteractive',\n",
              "                                                     [key], {});\n",
              "          if (!dataTable) return;\n",
              "\n",
              "          const docLinkHtml = 'Like what you see? Visit the ' +\n",
              "            '<a target=\"_blank\" href=https://colab.research.google.com/notebooks/data_table.ipynb>data table notebook</a>'\n",
              "            + ' to learn more about interactive tables.';\n",
              "          element.innerHTML = '';\n",
              "          dataTable['output_type'] = 'display_data';\n",
              "          await google.colab.output.renderOutput(dataTable, element);\n",
              "          const docLink = document.createElement('div');\n",
              "          docLink.innerHTML = docLinkHtml;\n",
              "          element.appendChild(docLink);\n",
              "        }\n",
              "      </script>\n",
              "    </div>\n",
              "  </div>\n",
              "  "
            ]
          },
          "metadata": {},
          "execution_count": 92
        }
      ]
    },
    {
      "cell_type": "code",
      "source": [
        "films=data2.Language.str.split('[-,/, ]', expand = True)\n",
        "\n",
        "films_1=films[0].groupby([films[0].values]).size()\n",
        "films_2=films[1].groupby([films[1].values]).size()\n",
        "films_3=films[2].groupby([films[2].values]).size()\n",
        "\n",
        "language=pd.DataFrame(pd.concat([films_1, films_2,films_3]))\n",
        "language_2=language.groupby(language.index.values).sum()\n",
        "\n",
        "for i in range(len(language_2)):\n",
        "  \n",
        "  film_genre=data2.loc[(data2[\"Language\"] == language_2.index.values[i])]\n",
        "  if film_genre.index.values != []:\n",
        "    film_genre_total = film_genre.groupby(film_genre.Genre).size().sort_values(ascending=False).head(1)\n",
        "    print(f\"Language:{language_2.index.values[i]}\",\", Popular Genre:\",film_genre_total.index.values)"
      ],
      "metadata": {
        "colab": {
          "base_uri": "https://localhost:8080/"
        },
        "id": "V7y-ct4L1b7N",
        "outputId": "1790442c-8c3d-4455-8689-cd99bb71e0ba"
      },
      "execution_count": 93,
      "outputs": [
        {
          "output_type": "stream",
          "name": "stdout",
          "text": [
            "Language:Dutch , Popular Genre: ['Crime drama']\n",
            "Language:English , Popular Genre: ['Documentary']\n",
            "Language:Filipino , Popular Genre: ['Drama']\n",
            "Language:French , Popular Genre: ['Documentary']\n",
            "Language:German , Popular Genre: ['Drama']\n",
            "Language:Hindi , Popular Genre: ['Drama']\n",
            "Language:Indonesian , Popular Genre: ['Drama']\n",
            "Language:Italian , Popular Genre: ['Drama']\n",
            "Language:Japanese , Popular Genre: ['Anime/Science fiction']\n",
            "Language:Korean , Popular Genre: ['Drama']\n",
            "Language:Marathi , Popular Genre: ['Drama']\n",
            "Language:Polish , Popular Genre: ['Horror']\n",
            "Language:Portuguese , Popular Genre: ['Comedy']\n",
            "Language:Spanish , Popular Genre: ['Documentary']\n",
            "Language:Thai , Popular Genre: ['Documentary']\n",
            "Language:Turkish , Popular Genre: ['Comedy']\n"
          ]
        },
        {
          "output_type": "stream",
          "name": "stderr",
          "text": [
            "/usr/local/lib/python3.7/dist-packages/ipykernel_launcher.py:13: DeprecationWarning: The truth value of an empty array is ambiguous. Returning False, but in future this will result in an error. Use `array.size > 0` to check that an array is not empty.\n",
            "  del sys.path[0]\n",
            "/usr/local/lib/python3.7/dist-packages/ipykernel_launcher.py:13: DeprecationWarning: elementwise comparison failed; this will raise an error in the future.\n",
            "  del sys.path[0]\n"
          ]
        }
      ]
    },
    {
      "cell_type": "markdown",
      "source": [
        "**15. Veri setinde outlier veri var mıdır? Açıklayınız.**\n",
        "---\n",
        "---"
      ],
      "metadata": {
        "id": "hc4-v1RSlEJW"
      }
    },
    {
      "cell_type": "code",
      "source": [
        "outliers=[]\n",
        "def detect_outlier(data_1):\n",
        "    \n",
        "    threshold=3\n",
        "    mean_1 = np.mean(data_1)\n",
        "    std_1 =np.std(data_1)\n",
        "    \n",
        "    \n",
        "    for y in data_1:\n",
        "        z_score= (y - mean_1)/std_1 \n",
        "        if np.abs(z_score) > threshold:\n",
        "            outliers.append(y)\n",
        "    return outliers"
      ],
      "metadata": {
        "id": "MrzKC1A6lD40"
      },
      "execution_count": 94,
      "outputs": []
    },
    {
      "cell_type": "markdown",
      "source": [
        "---\n",
        "Outlier verilerin tespiti için yaygın şekilde kullanılan z-score methodunu kullandık. Verilerimizden elde ettiğimiz z-score değerleri eğer threshold değerimiz olan üçten büyük ise verimiz outlier veridir.\n",
        "\n",
        "---"
      ],
      "metadata": {
        "id": "J_5PN0WsYQDc"
      }
    },
    {
      "cell_type": "code",
      "source": [
        "outliers=[]\n",
        "detect_outlier(data[\"Runtime\"])\n",
        "outliers_rt = outliers\n",
        "outliers=[]\n",
        "detect_outlier(data[\"IMDB Score\"])\n",
        "outliers_imdb = outliers\n",
        "print(\"Runtime sütunundaki outlier veriler: \",outliers_rt)\n",
        "print(\"IMDB Score sütunundaki outlier veriler: \",outliers_imdb)"
      ],
      "metadata": {
        "colab": {
          "base_uri": "https://localhost:8080/"
        },
        "id": "vmcp63GzliLE",
        "outputId": "1df84e45-dfed-438f-fb2f-434d1003a84b"
      },
      "execution_count": 95,
      "outputs": [
        {
          "output_type": "stream",
          "name": "stdout",
          "text": [
            "Runtime sütunundaki outlier veriler:  [4, 10, 9, 7, 209]\n",
            "IMDB Score sütunundaki outlier veriler:  [2.5, 2.6, 2.6, 3.2]\n"
          ]
        }
      ]
    },
    {
      "cell_type": "markdown",
      "source": [
        "Runtime sütunundaki outlier veriler:  [4, 10, 9, 7, 209]\n",
        "\n",
        "IMDB Score sütunundaki outlier veriler:  [2.5, 2.6, 2.6, 3.2]\n",
        "\n",
        "---"
      ],
      "metadata": {
        "id": "xJHjc5D-Y1VD"
      }
    }
  ]
}